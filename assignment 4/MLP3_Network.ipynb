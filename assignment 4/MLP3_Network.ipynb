{
  "nbformat": 4,
  "nbformat_minor": 0,
  "metadata": {
    "colab": {
      "name": "MLP3_Network.ipynb",
      "provenance": [],
      "collapsed_sections": []
    },
    "kernelspec": {
      "name": "python3",
      "display_name": "Python 3"
    },
    "language_info": {
      "name": "python"
    }
  },
  "cells": [
    {
      "cell_type": "markdown",
      "source": [
        "# Exercise 5: Practice with MLP Network (3)\n",
        "\n",
        "##Assignment 4 Author: David Nogales Pérez"
      ],
      "metadata": {
        "id": "01UHSMpIzEYt"
      }
    },
    {
      "cell_type": "code",
      "source": [
        "import numpy as np\n",
        "import pandas as pd\n",
        "import seaborn as sns\n",
        "from tensorflow.keras.models import Sequential\n",
        "from tensorflow.keras.layers import Dense\n",
        "from tensorflow.keras.activations import sigmoid\n",
        "from tensorflow.keras.losses import MeanSquaredError\n",
        "\n",
        "from sklearn.model_selection import RepeatedKFold, cross_val_score\n",
        "from tensorflow.keras.wrappers.scikit_learn import KerasRegressor\n",
        "from tensorflow.keras.metrics import RootMeanSquaredError\n",
        "from keras import losses        \n",
        "from keras import regularizers\n",
        "import keras\n",
        "import numpy as np\n",
        "import matplotlib.pyplot as plt\n",
        "import warnings\n",
        "warnings.filterwarnings('ignore')"
      ],
      "metadata": {
        "id": "PZVgKMCuS8xQ"
      },
      "execution_count": 10,
      "outputs": []
    },
    {
      "cell_type": "markdown",
      "source": [
        "## Generate training data\n"
      ],
      "metadata": {
        "id": "WWnBDxvczKu2"
      }
    },
    {
      "cell_type": "code",
      "source": [
        "def y1(k,y,u):\n",
        "  PI = np.pi\n",
        "  e = np.e\n",
        "  u_k = u[k]\n",
        "  y_k= y[k]\n",
        "  exp = -(u_k**2)-(y_k**2)\n",
        "  return 2.5*y_k*np.sin(PI*np.power(e,exp))\n",
        "def y2(k,y,u):\n",
        "  u_k=u[k]\n",
        "  return u_k*(1+u_k**2)\n",
        "\n",
        "#Generates n samples for the function y(k) described in the problem statement\n",
        "def generate_data(n=10,seed=12345):\n",
        "  data = np.zeros(n)\n",
        "  rng = np.random.default_rng(seed)\n",
        "  u = rng.uniform(-2,2,n) \n",
        "  for i in range(1,n):\n",
        "    yk= y1(i-1,data,u)+y2(i-1,data,u)\n",
        "    data[i]=yk\n",
        "  return np.arange(n),data\n",
        "\n",
        "n = 500 #training size\n",
        "X_train,y_train = generate_data(n) \n",
        "X_train.shape,y_train.shape"
      ],
      "metadata": {
        "colab": {
          "base_uri": "https://localhost:8080/",
          "height": 0
        },
        "id": "Z-SkLr51STS_",
        "outputId": "81efd78c-5b0a-444f-f6c7-88fb7cc9eba2"
      },
      "execution_count": 105,
      "outputs": [
        {
          "output_type": "execute_result",
          "data": {
            "text/plain": [
              "((500,), (500,))"
            ]
          },
          "metadata": {},
          "execution_count": 105
        }
      ]
    },
    {
      "cell_type": "code",
      "source": [
        "plt.scatter(X_train,y_train)\n",
        "plt.title(f'Function y(k) for n={n}')\n",
        "plt.ylabel(\"y(k)\")\n",
        "plt.xlabel(\"k\")\n",
        "plt.show()"
      ],
      "metadata": {
        "colab": {
          "base_uri": "https://localhost:8080/",
          "height": 295
        },
        "id": "3XGHud9x54cB",
        "outputId": "9eb91882-41c6-4f1a-f79c-67c39e298044"
      },
      "execution_count": 106,
      "outputs": [
        {
          "output_type": "display_data",
          "data": {
            "image/png": "[encoded data removed]",
            "text/plain": [
              "<Figure size 432x288 with 1 Axes>"
            ]
          },
          "metadata": {
            "needs_background": "light"
          }
        }
      ]
    },
    {
      "cell_type": "markdown",
      "source": [
        "Plot of 500 samples of the function:\n",
        "\n",
        "$$y(k)=y_1(k-1)+y_2(k-1)$$\n",
        "where\n",
        "  $$y_1(k)=2.5y(k)sin(\\pi\\epsilon^{-u^2(k)-y^2(k)})$$\n",
        "  $$y_2(k)=u(k)(1+u^2(k))$$"
      ],
      "metadata": {
        "id": "5-2YtTYaJjrj"
      }
    },
    {
      "cell_type": "markdown",
      "source": [
        "\n",
        "\n",
        "## Build MLP"
      ],
      "metadata": {
        "id": "3kCsJv3rfi-U"
      }
    },
    {
      "cell_type": "code",
      "source": [
        "#Generates the loss plot for the given history generated by the model\n",
        "def plot_loss(history):\n",
        "    plt.plot(history.history['loss'])\n",
        "    plt.title('model loss')\n",
        "    plt.ylabel('loss')\n",
        "    plt.xlabel('epoch')\n",
        "    plt.legend(['train', 'test'], loc='upper left')\n",
        "    plt.show()\n",
        "\n",
        "#Generates a scatter plot of the input data and the prediction of the given model\n",
        "def plot_predicted(model,X,y):\n",
        "  plt.scatter(X,y,label=\"real\")\n",
        "  plt.scatter(X,model.predict(X),label=\"predicted\")\n",
        "  plt.legend(loc=\"upper right\")\n",
        "  plt.xlabel(\"k\")\n",
        "  plt.ylabel(\"Value\")\n",
        "\n",
        "\n",
        "#Returns a function which generates a 3-hidden layer MLP with the given regularization and activation function   \n",
        "def buildmodel(act='sigmoid',reg = regularizers.l1_l2()):\n",
        "    def build():\n",
        "      model = Sequential()\n",
        "      model.add(Dense(1, input_dim=1, activation=act, kernel_regularizer=reg))\n",
        "      model.add(Dense(50, activation=act, kernel_regularizer=reg))\n",
        "      model.add(Dense(30, activation=act, kernel_regularizer=reg))\n",
        "      model.add(Dense(15, activation=act, kernel_regularizer=reg))\n",
        "      model.add(Dense(1,activation = 'linear'))\n",
        "      model.compile(optimizer=\"Adam\", loss=losses.mean_squared_error,metrics=[RootMeanSquaredError()])\n",
        "      return model\n",
        "    return build\n"
      ],
      "metadata": {
        "id": "x1A6WJeciwj3"
      },
      "execution_count": 92,
      "outputs": []
    },
    {
      "cell_type": "markdown",
      "source": [
        "Applying cross validation to the MLP"
      ],
      "metadata": {
        "id": "YLPfuOOyBdTi"
      }
    },
    {
      "cell_type": "code",
      "source": [
        "parameters = {\"activation\":[\"sigmoid\",\"linear\",\"relu\"],\n",
        "              \"regularizer\":[(\"L1\",regularizers.l1()),(\"L2\",regularizers.l2()),(\"L1_L2\",regularizers.l1_l2())]\n",
        "              }\n",
        "\n",
        "results = {\n",
        "}\n",
        "for act in parameters[\"activation\"]:\n",
        "  results[act]={}\n",
        "  for reg in parameters[\"regularizer\"]:\n",
        "    build = buildmodel(act,reg[1])\n",
        "    estimator= KerasRegressor(build_fn=build, epochs=50, batch_size=25, verbose=0)\n",
        "    kfold= RepeatedKFold(n_splits=5, n_repeats=5)\n",
        "    result = cross_val_score(estimator, X_train, y_train, cv=kfold, n_jobs=1)  \n",
        "    mean = result.mean()\n",
        "    print(f\"Cross validation mean of MSE: {mean}\") \n",
        "    results[act][reg[0]] = mean"
      ],
      "metadata": {
        "colab": {
          "base_uri": "https://localhost:8080/",
          "height": 0
        },
        "id": "scq1WiAuBcOK",
        "outputId": "5fe9cb01-e4a1-4e89-9222-bd588efeedfb"
      },
      "execution_count": 99,
      "outputs": [
        {
          "output_type": "stream",
          "name": "stdout",
          "text": [
            "Cross validation mean of MSE: -16.952189750671387\n",
            "Cross validation mean of MSE: -16.827399063110352\n",
            "Cross validation mean of MSE: -16.93697811126709\n",
            "Cross validation mean of MSE: -22.822959213256837\n",
            "Cross validation mean of MSE: -18.354305610656738\n",
            "Cross validation mean of MSE: -22.08200454711914\n",
            "Cross validation mean of MSE: -17.559741706848143\n",
            "Cross validation mean of MSE: -16.844078407287597\n",
            "Cross validation mean of MSE: -17.384937133789062\n"
          ]
        }
      ]
    },
    {
      "cell_type": "code",
      "source": [
        "df = pd.DataFrame(results)\n",
        "df = df.rename_axis('Regularization').reset_index()\n",
        "df = pd.melt(df,id_vars=[\"Regularization\"],value_vars=['sigmoid',\"linear\",\"relu\"],var_name='Activation',value_name='MSE').sort_values('MSE',ascending=False).reset_index(drop=True)\n",
        "df['MSE']=abs(df['MSE'])\n",
        "ax =  sns.catplot(data=df,x='Activation',y='MSE',hue='Regularization',kind='bar').set(title = 'MSE Metrics For Each Activation Function and Regularization')\n",
        "df"
      ],
      "metadata": {
        "colab": {
          "base_uri": "https://localhost:8080/",
          "height": 699
        },
        "id": "DGhuh2s_7e3Z",
        "outputId": "a945fab0-d6fc-4e3e-8be6-e15d3f7cc8d0"
      },
      "execution_count": 102,
      "outputs": [
        {
          "output_type": "execute_result",
          "data": {
            "text/html": [
              "\n",
              "  <div id=\"df-0ef790c3-69de-4f7d-81c1-742cbcb772b9\">\n",
              "    <div class=\"colab-df-container\">\n",
              "      <div>\n",
              "<style scoped>\n",
              "    .dataframe tbody tr th:only-of-type {\n",
              "        vertical-align: middle;\n",
              "    }\n",
              "\n",
              "    .dataframe tbody tr th {\n",
              "        vertical-align: top;\n",
              "    }\n",
              "\n",
              "    .dataframe thead th {\n",
              "        text-align: right;\n",
              "    }\n",
              "</style>\n",
              "<table border=\"1\" class=\"dataframe\">\n",
              "  <thead>\n",
              "    <tr style=\"text-align: right;\">\n",
              "      <th></th>\n",
              "      <th>Regularization</th>\n",
              "      <th>Activation</th>\n",
              "      <th>MSE</th>\n",
              "    </tr>\n",
              "  </thead>\n",
              "  <tbody>\n",
              "    <tr>\n",
              "      <th>0</th>\n",
              "      <td>L2</td>\n",
              "      <td>sigmoid</td>\n",
              "      <td>16.827399</td>\n",
              "    </tr>\n",
              "    <tr>\n",
              "      <th>1</th>\n",
              "      <td>L2</td>\n",
              "      <td>relu</td>\n",
              "      <td>16.844078</td>\n",
              "    </tr>\n",
              "    <tr>\n",
              "      <th>2</th>\n",
              "      <td>L1_L2</td>\n",
              "      <td>sigmoid</td>\n",
              "      <td>16.936978</td>\n",
              "    </tr>\n",
              "    <tr>\n",
              "      <th>3</th>\n",
              "      <td>L1</td>\n",
              "      <td>sigmoid</td>\n",
              "      <td>16.952190</td>\n",
              "    </tr>\n",
              "    <tr>\n",
              "      <th>4</th>\n",
              "      <td>L1_L2</td>\n",
              "      <td>relu</td>\n",
              "      <td>17.384937</td>\n",
              "    </tr>\n",
              "    <tr>\n",
              "      <th>5</th>\n",
              "      <td>L1</td>\n",
              "      <td>relu</td>\n",
              "      <td>17.559742</td>\n",
              "    </tr>\n",
              "    <tr>\n",
              "      <th>6</th>\n",
              "      <td>L2</td>\n",
              "      <td>linear</td>\n",
              "      <td>18.354306</td>\n",
              "    </tr>\n",
              "    <tr>\n",
              "      <th>7</th>\n",
              "      <td>L1_L2</td>\n",
              "      <td>linear</td>\n",
              "      <td>22.082005</td>\n",
              "    </tr>\n",
              "    <tr>\n",
              "      <th>8</th>\n",
              "      <td>L1</td>\n",
              "      <td>linear</td>\n",
              "      <td>22.822959</td>\n",
              "    </tr>\n",
              "  </tbody>\n",
              "</table>\n",
              "</div>\n",
              "      <button class=\"colab-df-convert\" onclick=\"convertToInteractive('df-0ef790c3-69de-4f7d-81c1-742cbcb772b9')\"\n",
              "              title=\"Convert this dataframe to an interactive table.\"\n",
              "              style=\"display:none;\">\n",
              "        \n",
              "  <svg xmlns=\"http://www.w3.org/2000/svg\" height=\"24px\"viewBox=\"0 0 24 24\"\n",
              "       width=\"24px\">\n",
              "    <path d=\"M0 0h24v24H0V0z\" fill=\"none\"/>\n",
              "    <path d=\"M18.56 5.44l.94 2.06.94-2.06 2.06-.94-2.06-.94-.94-2.06-.94 2.06-2.06.94zm-11 1L8.5 8.5l.94-2.06 2.06-.94-2.06-.94L8.5 2.5l-.94 2.06-2.06.94zm10 10l.94 2.06.94-2.06 2.06-.94-2.06-.94-.94-2.06-.94 2.06-2.06.94z\"/><path d=\"M17.41 7.96l-1.37-1.37c-.4-.4-.92-.59-1.43-.59-.52 0-1.04.2-1.43.59L10.3 9.45l-7.72 7.72c-.78.78-.78 2.05 0 2.83L4 21.41c.39.39.9.59 1.41.59.51 0 1.02-.2 1.41-.59l7.78-7.78 2.81-2.81c.8-.78.8-2.07 0-2.86zM5.41 20L4 18.59l7.72-7.72 1.47 1.35L5.41 20z\"/>\n",
              "  </svg>\n",
              "      </button>\n",
              "      \n",
              "  <style>\n",
              "    .colab-df-container {\n",
              "      display:flex;\n",
              "      flex-wrap:wrap;\n",
              "      gap: 12px;\n",
              "    }\n",
              "\n",
              "    .colab-df-convert {\n",
              "      background-color: #E8F0FE;\n",
              "      border: none;\n",
              "      border-radius: 50%;\n",
              "      cursor: pointer;\n",
              "      display: none;\n",
              "      fill: #1967D2;\n",
              "      height: 32px;\n",
              "      padding: 0 0 0 0;\n",
              "      width: 32px;\n",
              "    }\n",
              "\n",
              "    .colab-df-convert:hover {\n",
              "      background-color: #E2EBFA;\n",
              "      box-shadow: 0px 1px 2px rgba(60, 64, 67, 0.3), 0px 1px 3px 1px rgba(60, 64, 67, 0.15);\n",
              "      fill: #174EA6;\n",
              "    }\n",
              "\n",
              "    [theme=dark] .colab-df-convert {\n",
              "      background-color: #3B4455;\n",
              "      fill: #D2E3FC;\n",
              "    }\n",
              "\n",
              "    [theme=dark] .colab-df-convert:hover {\n",
              "      background-color: #434B5C;\n",
              "      box-shadow: 0px 1px 3px 1px rgba(0, 0, 0, 0.15);\n",
              "      filter: drop-shadow(0px 1px 2px rgba(0, 0, 0, 0.3));\n",
              "      fill: #FFFFFF;\n",
              "    }\n",
              "  </style>\n",
              "\n",
              "      <script>\n",
              "        const buttonEl =\n",
              "          document.querySelector('#df-0ef790c3-69de-4f7d-81c1-742cbcb772b9 button.colab-df-convert');\n",
              "        buttonEl.style.display =\n",
              "          google.colab.kernel.accessAllowed ? 'block' : 'none';\n",
              "\n",
              "        async function convertToInteractive(key) {\n",
              "          const element = document.querySelector('#df-0ef790c3-69de-4f7d-81c1-742cbcb772b9');\n",
              "          const dataTable =\n",
              "            await google.colab.kernel.invokeFunction('convertToInteractive',\n",
              "                                                     [key], {});\n",
              "          if (!dataTable) return;\n",
              "\n",
              "          const docLinkHtml = 'Like what you see? Visit the ' +\n",
              "            '<a target=\"_blank\" href=https://colab.research.google.com/notebooks/data_table.ipynb>data table notebook</a>'\n",
              "            + ' to learn more about interactive tables.';\n",
              "          element.innerHTML = '';\n",
              "          dataTable['output_type'] = 'display_data';\n",
              "          await google.colab.output.renderOutput(dataTable, element);\n",
              "          const docLink = document.createElement('div');\n",
              "          docLink.innerHTML = docLinkHtml;\n",
              "          element.appendChild(docLink);\n",
              "        }\n",
              "      </script>\n",
              "    </div>\n",
              "  </div>\n",
              "  "
            ],
            "text/plain": [
              "  Regularization Activation        MSE\n",
              "0             L2    sigmoid  16.827399\n",
              "1             L2       relu  16.844078\n",
              "2          L1_L2    sigmoid  16.936978\n",
              "3             L1    sigmoid  16.952190\n",
              "4          L1_L2       relu  17.384937\n",
              "5             L1       relu  17.559742\n",
              "6             L2     linear  18.354306\n",
              "7          L1_L2     linear  22.082005\n",
              "8             L1     linear  22.822959"
            ]
          },
          "metadata": {},
          "execution_count": 102
        },
        {
          "output_type": "display_data",
          "data": {
            "image/png": "[encoded data removed]",
            "text/plain": [
              "<Figure size 439.625x360 with 1 Axes>"
            ]
          },
          "metadata": {
            "needs_background": "light"
          }
        }
      ]
    },
    {
      "cell_type": "markdown",
      "source": [
        "As seen in the previous graphic the best results are obtained using a Sigmoid activation function with any kind of regularization but L1+L2 regularization will be used from now on."
      ],
      "metadata": {
        "id": "KRlW6uGQ_b0j"
      }
    },
    {
      "cell_type": "code",
      "source": [
        "model = buildmodel()()\n",
        "history = model.fit(X_train, y_train, epochs=50, batch_size=25, verbose=1)"
      ],
      "metadata": {
        "colab": {
          "base_uri": "https://localhost:8080/",
          "height": 0
        },
        "id": "NJCg-10MAepv",
        "outputId": "21d6c330-e2c1-436d-9737-4eac5c2d6228"
      },
      "execution_count": 100,
      "outputs": [
        {
          "output_type": "stream",
          "name": "stdout",
          "text": [
            "Epoch 1/50\n",
            "20/20 [==============================] - 1s 2ms/step - loss: 20.2313 - root_mean_squared_error: 4.0947\n",
            "Epoch 2/50\n",
            "20/20 [==============================] - 0s 2ms/step - loss: 19.7954 - root_mean_squared_error: 4.0811\n",
            "Epoch 3/50\n",
            "20/20 [==============================] - 0s 2ms/step - loss: 19.4505 - root_mean_squared_error: 4.0776\n",
            "Epoch 4/50\n",
            "20/20 [==============================] - 0s 2ms/step - loss: 19.1481 - root_mean_squared_error: 4.0771\n",
            "Epoch 5/50\n",
            "20/20 [==============================] - 0s 2ms/step - loss: 18.8636 - root_mean_squared_error: 4.0764\n",
            "Epoch 6/50\n",
            "20/20 [==============================] - 0s 2ms/step - loss: 18.6112 - root_mean_squared_error: 4.0767\n",
            "Epoch 7/50\n",
            "20/20 [==============================] - 0s 2ms/step - loss: 18.3772 - root_mean_squared_error: 4.0761\n",
            "Epoch 8/50\n",
            "20/20 [==============================] - 0s 2ms/step - loss: 18.1737 - root_mean_squared_error: 4.0767\n",
            "Epoch 9/50\n",
            "20/20 [==============================] - 0s 2ms/step - loss: 17.9868 - root_mean_squared_error: 4.0764\n",
            "Epoch 10/50\n",
            "20/20 [==============================] - 0s 2ms/step - loss: 17.8301 - root_mean_squared_error: 4.0770\n",
            "Epoch 11/50\n",
            "20/20 [==============================] - 0s 2ms/step - loss: 17.6890 - root_mean_squared_error: 4.0775\n",
            "Epoch 12/50\n",
            "20/20 [==============================] - 0s 2ms/step - loss: 17.5566 - root_mean_squared_error: 4.0767\n",
            "Epoch 13/50\n",
            "20/20 [==============================] - 0s 2ms/step - loss: 17.4756 - root_mean_squared_error: 4.0788\n",
            "Epoch 14/50\n",
            "20/20 [==============================] - 0s 2ms/step - loss: 17.3640 - root_mean_squared_error: 4.0760\n",
            "Epoch 15/50\n",
            "20/20 [==============================] - 0s 2ms/step - loss: 17.2929 - root_mean_squared_error: 4.0763\n",
            "Epoch 16/50\n",
            "20/20 [==============================] - 0s 2ms/step - loss: 17.2348 - root_mean_squared_error: 4.0762\n",
            "Epoch 17/50\n",
            "20/20 [==============================] - 0s 2ms/step - loss: 17.1856 - root_mean_squared_error: 4.0760\n",
            "Epoch 18/50\n",
            "20/20 [==============================] - 0s 2ms/step - loss: 17.1455 - root_mean_squared_error: 4.0764\n",
            "Epoch 19/50\n",
            "20/20 [==============================] - 0s 2ms/step - loss: 17.1065 - root_mean_squared_error: 4.0760\n",
            "Epoch 20/50\n",
            "20/20 [==============================] - 0s 2ms/step - loss: 17.0780 - root_mean_squared_error: 4.0764\n",
            "Epoch 21/50\n",
            "20/20 [==============================] - 0s 2ms/step - loss: 17.0525 - root_mean_squared_error: 4.0764\n",
            "Epoch 22/50\n",
            "20/20 [==============================] - 0s 2ms/step - loss: 17.0300 - root_mean_squared_error: 4.0766\n",
            "Epoch 23/50\n",
            "20/20 [==============================] - 0s 2ms/step - loss: 17.0010 - root_mean_squared_error: 4.0757\n",
            "Epoch 24/50\n",
            "20/20 [==============================] - 0s 2ms/step - loss: 16.9856 - root_mean_squared_error: 4.0764\n",
            "Epoch 25/50\n",
            "20/20 [==============================] - 0s 2ms/step - loss: 16.9640 - root_mean_squared_error: 4.0758\n",
            "Epoch 26/50\n",
            "20/20 [==============================] - 0s 2ms/step - loss: 16.9537 - root_mean_squared_error: 4.0763\n",
            "Epoch 27/50\n",
            "20/20 [==============================] - 0s 2ms/step - loss: 16.9360 - root_mean_squared_error: 4.0759\n",
            "Epoch 28/50\n",
            "20/20 [==============================] - 0s 2ms/step - loss: 16.9286 - root_mean_squared_error: 4.0766\n",
            "Epoch 29/50\n",
            "20/20 [==============================] - 0s 2ms/step - loss: 16.9162 - root_mean_squared_error: 4.0764\n",
            "Epoch 30/50\n",
            "20/20 [==============================] - 0s 2ms/step - loss: 16.8990 - root_mean_squared_error: 4.0758\n",
            "Epoch 31/50\n",
            "20/20 [==============================] - 0s 2ms/step - loss: 16.8949 - root_mean_squared_error: 4.0764\n",
            "Epoch 32/50\n",
            "20/20 [==============================] - 0s 2ms/step - loss: 16.8891 - root_mean_squared_error: 4.0769\n",
            "Epoch 33/50\n",
            "20/20 [==============================] - 0s 2ms/step - loss: 16.8755 - root_mean_squared_error: 4.0765\n",
            "Epoch 34/50\n",
            "20/20 [==============================] - 0s 2ms/step - loss: 16.8672 - root_mean_squared_error: 4.0766\n",
            "Epoch 35/50\n",
            "20/20 [==============================] - 0s 2ms/step - loss: 16.8631 - root_mean_squared_error: 4.0771\n",
            "Epoch 36/50\n",
            "20/20 [==============================] - 0s 2ms/step - loss: 16.8439 - root_mean_squared_error: 4.0759\n",
            "Epoch 37/50\n",
            "20/20 [==============================] - 0s 2ms/step - loss: 16.8511 - root_mean_squared_error: 4.0773\n",
            "Epoch 38/50\n",
            "20/20 [==============================] - 0s 2ms/step - loss: 16.8461 - root_mean_squared_error: 4.0775\n",
            "Epoch 39/50\n",
            "20/20 [==============================] - 0s 2ms/step - loss: 16.8436 - root_mean_squared_error: 4.0778\n",
            "Epoch 40/50\n",
            "20/20 [==============================] - 0s 2ms/step - loss: 16.8231 - root_mean_squared_error: 4.0766\n",
            "Epoch 41/50\n",
            "20/20 [==============================] - 0s 2ms/step - loss: 16.8064 - root_mean_squared_error: 4.0757\n",
            "Epoch 42/50\n",
            "20/20 [==============================] - 0s 2ms/step - loss: 16.8026 - root_mean_squared_error: 4.0761\n",
            "Epoch 43/50\n",
            "20/20 [==============================] - 0s 2ms/step - loss: 16.8018 - root_mean_squared_error: 4.0766\n",
            "Epoch 44/50\n",
            "20/20 [==============================] - 0s 2ms/step - loss: 16.7991 - root_mean_squared_error: 4.0767\n",
            "Epoch 45/50\n",
            "20/20 [==============================] - 0s 2ms/step - loss: 16.7844 - root_mean_squared_error: 4.0758\n",
            "Epoch 46/50\n",
            "20/20 [==============================] - 0s 2ms/step - loss: 16.7790 - root_mean_squared_error: 4.0759\n",
            "Epoch 47/50\n",
            "20/20 [==============================] - 0s 2ms/step - loss: 16.7776 - root_mean_squared_error: 4.0763\n",
            "Epoch 48/50\n",
            "20/20 [==============================] - 0s 2ms/step - loss: 16.7693 - root_mean_squared_error: 4.0759\n",
            "Epoch 49/50\n",
            "20/20 [==============================] - 0s 2ms/step - loss: 16.7808 - root_mean_squared_error: 4.0776\n",
            "Epoch 50/50\n",
            "20/20 [==============================] - 0s 2ms/step - loss: 16.7632 - root_mean_squared_error: 4.0762\n"
          ]
        }
      ]
    },
    {
      "cell_type": "code",
      "source": [
        "plot_loss(history)"
      ],
      "metadata": {
        "colab": {
          "base_uri": "https://localhost:8080/",
          "height": 295
        },
        "id": "_4KvaxCrHoKs",
        "outputId": "35f37bdb-9f52-4e2b-c042-ea0537a93c17"
      },
      "execution_count": 103,
      "outputs": [
        {
          "output_type": "display_data",
          "data": {
            "image/png": "[encoded data removed]",
            "text/plain": [
              "<Figure size 432x288 with 1 Axes>"
            ]
          },
          "metadata": {
            "needs_background": "light"
          }
        }
      ]
    },
    {
      "cell_type": "markdown",
      "source": [
        "Observing the loss curve we can see that the NN is starting to overfit slightly so no extra epoch are required to fully train the NN."
      ],
      "metadata": {
        "id": "Kv01WgQUEWLX"
      }
    },
    {
      "cell_type": "code",
      "source": [
        "plot_predicted(model,X_train,y_train)   \n",
        "plt.plot(np.arange(0,n)+1,np.zeros(n)+y_train.mean(),'-r',label=\"mean\")\n",
        "plt.legend()"
      ],
      "metadata": {
        "colab": {
          "base_uri": "https://localhost:8080/",
          "height": 297
        },
        "id": "PQXukXFxHrPT",
        "outputId": "c6a32d4d-ab48-4f3c-c156-ada25eb62e0a"
      },
      "execution_count": 124,
      "outputs": [
        {
          "output_type": "execute_result",
          "data": {
            "text/plain": [
              "<matplotlib.legend.Legend at 0x7f4777299e50>"
            ]
          },
          "metadata": {},
          "execution_count": 124
        },
        {
          "output_type": "display_data",
          "data": {
            "image/png": "[encoded data removed]",
            "text/plain": [
              "<Figure size 432x288 with 1 Axes>"
            ]
          },
          "metadata": {
            "needs_background": "light"
          }
        }
      ]
    },
    {
      "cell_type": "code",
      "source": [
        "y_train.mean()"
      ],
      "metadata": {
        "colab": {
          "base_uri": "https://localhost:8080/",
          "height": 0
        },
        "id": "PrtkZU-vMDiO",
        "outputId": "f18f0770-a728-4eaf-afb9-20005e260dcf"
      },
      "execution_count": 114,
      "outputs": [
        {
          "output_type": "execute_result",
          "data": {
            "text/plain": [
              "-0.10853680066900842"
            ]
          },
          "metadata": {},
          "execution_count": 114
        }
      ]
    },
    {
      "cell_type": "markdown",
      "source": [
        "In this plot we can see how the MLP predicts a steady line avoiding the noise introduced by the randomness of *u(k)* in the system. Which is really close to the mean of the image values of the function."
      ],
      "metadata": {
        "id": "Gbwe_eE6HuCZ"
      }
    }
  ]
}