{
 "cells": [
  {
   "cell_type": "markdown",
   "metadata": {},
   "source": [
    "# Assignment 3\n",
    "## Problem 3: Be Discrete\n",
    "### author: David Nogales Perez"
   ]
  },
  {
   "cell_type": "markdown",
   "metadata": {},
   "source": [
    "Code for obtaining the dataset"
   ]
  },
  {
   "cell_type": "code",
   "execution_count": 653,
   "metadata": {},
   "outputs": [],
   "source": [
    "#install library to import dataset\n",
    "#!pip3 install pmlb\n",
    "#from pmlb import fetch_data\n",
    "#appendicitis_data = fetch_data('appendicitis')\n",
    "#appendicitis_data.to_csv('appendicitis.csv', index=False)  "
   ]
  },
  {
   "cell_type": "markdown",
   "metadata": {},
   "source": [
    "Importing necessary libraries and defining important functions"
   ]
  },
  {
   "cell_type": "code",
   "execution_count": 654,
   "metadata": {},
   "outputs": [],
   "source": [
    "import pandas as pd\n",
    "import numpy as np\n",
    "import matplotlib.pyplot as plt\n",
    "import seaborn as sns \n",
    "\n",
    "from sklearn.model_selection import train_test_split,RandomizedSearchCV,GridSearchCV,cross_val_score\n",
    "from sklearn.preprocessing import StandardScaler,KBinsDiscretizer\n",
    "from sklearn.naive_bayes import GaussianNB\n",
    "from sklearn.linear_model import LogisticRegression\n",
    "from sklearn.neighbors import KNeighborsClassifier\n",
    "from sklearn.metrics import classification_report,confusion_matrix,ConfusionMatrixDisplay,confusion_matrix\n",
    "\n",
    "sns.set(rc={'figure.figsize':(10, 7.5)})\n",
    "sns.set_color_codes(\"deep\")\n",
    "sns.set_style(\"whitegrid\")\n",
    "\n",
    "def preprocess_data(X_train, X_test,bins=0,new_strategy=''):\n",
    "    \n",
    "    X_train_preprocessed = X_train.copy(deep=True)\n",
    "    X_test_preprocessed = X_test.copy(deep=True)\n",
    "    #Discretize variables according to parameters\n",
    "    if (bins!=0):\n",
    "        kBinDiscretizer = KBinsDiscretizer(n_bins=bins, encode='onehot-dense', strategy=new_strategy)\n",
    "        kBinDiscretizer.fit(X_train)\n",
    "        X_train_preprocessed = kBinDiscretizer.transform(X_train_preprocessed)\n",
    "        kBinDiscretizer.fit(X_test)\n",
    "        X_test_preprocessed = kBinDiscretizer.transform(X_test_preprocessed)\n",
    "    #Scale variables\n",
    "    scale = StandardScaler()\n",
    "    X_train_preprocessed = scale.fit_transform(X_train_preprocessed)\n",
    "    X_test_preprocessed = scale.transform(X_test_preprocessed)\n",
    "    return X_train_preprocessed,X_test_preprocessed\n",
    "\n",
    "def generate_result(X_p_train,X_p_test, y_train, y_test,n_neighbors=5):\n",
    "    models = {\n",
    "        \"naive_bayes\":GaussianNB(),\n",
    "        \"logistic_regression\":LogisticRegression(),\n",
    "        \"KNN\":KNeighborsClassifier(n_neighbors=n_neighbors)\n",
    "    }\n",
    "    results_numeric = {}\n",
    "    results_object = {}\n",
    "    for name,model in models.items():\n",
    "        current_model = model.fit(X_p_train,y_train)\n",
    "        y_pred = current_model.predict(X_p_train)\n",
    "        model_cvs = cross_val_score(model,X_p_train,y_train,cv=5)\n",
    "        model_test = current_model.score(X_p_test, y_test)\n",
    "        model_cls_report = classification_report(y_train, y_pred,output_dict=True)\n",
    "        model_conf_matrix = confusion_matrix(y_train, y_pred, labels=current_model.classes_)\n",
    "        result_numeric = {\n",
    "            \"cross_validation_error_avg\":model_cvs.mean(),\n",
    "            \"test_error\":model_test,\n",
    "        }\n",
    "        result_object = {\n",
    "            \"confusion_matrix\":model_conf_matrix,\n",
    "            \"classification_report\":model_cls_report\n",
    "        }\n",
    "        results_numeric[name] = result_numeric\n",
    "        results_object[name] = result_object\n",
    "\n",
    "    return results_numeric,results_object\n",
    "\n",
    "def tune_knn_hyperparameters(X_p_train,y_train):\n",
    "    param_grid = {'n_neighbors': np.arange(1,20)} \n",
    "    knn_best = GridSearchCV(KNeighborsClassifier(), param_grid, cv=5) \n",
    "    knn_best.fit(X_p_train, y_train)\n",
    "    print(\"GridSearch: n_neightbors \",knn_best.best_params_['n_neighbors'])\n",
    "    return knn_best.best_params_['n_neighbors']\n",
    "\n",
    "def results_object_to_dataframe(results_object):\n",
    "    clfs_dfs = []\n",
    "    conf_mat_dfs = []\n",
    "    for _,result in results_object.items():\n",
    "        conf_mat_df = pd.DataFrame(result[\"confusion_matrix\"])\n",
    "        clf_rep_df = pd.DataFrame(result[\"classification_report\"])\n",
    "        clfs_dfs.append(clf_rep_df)\n",
    "        conf_mat_dfs.append(conf_mat_df)\n",
    "\n",
    "    clfs_df = pd.concat(clfs_dfs,keys=results_object.keys()).round(2)\n",
    "    conf_mat_df = pd.concat(conf_mat_dfs,keys=results_object.keys())\n",
    "    return clfs_df,conf_mat_df\n",
    "\n",
    "def generate_heatmaps_from_dataframe(df,index_labels,ax):\n",
    "    indexes = range( len(index_labels))\n",
    "    for index in indexes:\n",
    "        sns.heatmap(df.loc[index_labels[index]],annot=True,ax=ax[index])\n",
    "        ax[index].set_title(index_labels[index])  "
   ]
  },
  {
   "cell_type": "code",
   "execution_count": 655,
   "metadata": {},
   "outputs": [
    {
     "data": {
      "text/html": [
       "<div>\n",
       "<style scoped>\n",
       "    .dataframe tbody tr th:only-of-type {\n",
       "        vertical-align: middle;\n",
       "    }\n",
       "\n",
       "    .dataframe tbody tr th {\n",
       "        vertical-align: top;\n",
       "    }\n",
       "\n",
       "    .dataframe thead th {\n",
       "        text-align: right;\n",
       "    }\n",
       "</style>\n",
       "<table border=\"1\" class=\"dataframe\">\n",
       "  <thead>\n",
       "    <tr style=\"text-align: right;\">\n",
       "      <th></th>\n",
       "      <th>At1</th>\n",
       "      <th>At2</th>\n",
       "      <th>At3</th>\n",
       "      <th>At4</th>\n",
       "      <th>At5</th>\n",
       "      <th>At6</th>\n",
       "      <th>At7</th>\n",
       "      <th>target</th>\n",
       "    </tr>\n",
       "  </thead>\n",
       "  <tbody>\n",
       "    <tr>\n",
       "      <th>0</th>\n",
       "      <td>0.213</td>\n",
       "      <td>0.554</td>\n",
       "      <td>0.207</td>\n",
       "      <td>0.000</td>\n",
       "      <td>0.000</td>\n",
       "      <td>0.749</td>\n",
       "      <td>0.220</td>\n",
       "      <td>1</td>\n",
       "    </tr>\n",
       "    <tr>\n",
       "      <th>1</th>\n",
       "      <td>0.458</td>\n",
       "      <td>0.714</td>\n",
       "      <td>0.468</td>\n",
       "      <td>0.111</td>\n",
       "      <td>0.102</td>\n",
       "      <td>0.741</td>\n",
       "      <td>0.436</td>\n",
       "      <td>1</td>\n",
       "    </tr>\n",
       "    <tr>\n",
       "      <th>2</th>\n",
       "      <td>0.102</td>\n",
       "      <td>0.518</td>\n",
       "      <td>0.111</td>\n",
       "      <td>0.056</td>\n",
       "      <td>0.022</td>\n",
       "      <td>0.506</td>\n",
       "      <td>0.086</td>\n",
       "      <td>1</td>\n",
       "    </tr>\n",
       "    <tr>\n",
       "      <th>3</th>\n",
       "      <td>0.187</td>\n",
       "      <td>0.196</td>\n",
       "      <td>0.105</td>\n",
       "      <td>0.056</td>\n",
       "      <td>0.029</td>\n",
       "      <td>0.133</td>\n",
       "      <td>0.085</td>\n",
       "      <td>1</td>\n",
       "    </tr>\n",
       "    <tr>\n",
       "      <th>4</th>\n",
       "      <td>0.236</td>\n",
       "      <td>0.804</td>\n",
       "      <td>0.289</td>\n",
       "      <td>0.111</td>\n",
       "      <td>0.066</td>\n",
       "      <td>0.756</td>\n",
       "      <td>0.241</td>\n",
       "      <td>1</td>\n",
       "    </tr>\n",
       "    <tr>\n",
       "      <th>...</th>\n",
       "      <td>...</td>\n",
       "      <td>...</td>\n",
       "      <td>...</td>\n",
       "      <td>...</td>\n",
       "      <td>...</td>\n",
       "      <td>...</td>\n",
       "      <td>...</td>\n",
       "      <td>...</td>\n",
       "    </tr>\n",
       "    <tr>\n",
       "      <th>101</th>\n",
       "      <td>0.449</td>\n",
       "      <td>0.875</td>\n",
       "      <td>0.523</td>\n",
       "      <td>0.083</td>\n",
       "      <td>0.076</td>\n",
       "      <td>0.920</td>\n",
       "      <td>0.487</td>\n",
       "      <td>0</td>\n",
       "    </tr>\n",
       "    <tr>\n",
       "      <th>102</th>\n",
       "      <td>0.102</td>\n",
       "      <td>0.000</td>\n",
       "      <td>0.022</td>\n",
       "      <td>0.000</td>\n",
       "      <td>0.000</td>\n",
       "      <td>0.000</td>\n",
       "      <td>0.017</td>\n",
       "      <td>0</td>\n",
       "    </tr>\n",
       "    <tr>\n",
       "      <th>103</th>\n",
       "      <td>0.409</td>\n",
       "      <td>0.875</td>\n",
       "      <td>0.482</td>\n",
       "      <td>0.306</td>\n",
       "      <td>0.259</td>\n",
       "      <td>0.914</td>\n",
       "      <td>0.443</td>\n",
       "      <td>0</td>\n",
       "    </tr>\n",
       "    <tr>\n",
       "      <th>104</th>\n",
       "      <td>0.427</td>\n",
       "      <td>0.804</td>\n",
       "      <td>0.474</td>\n",
       "      <td>0.056</td>\n",
       "      <td>0.048</td>\n",
       "      <td>0.836</td>\n",
       "      <td>0.437</td>\n",
       "      <td>0</td>\n",
       "    </tr>\n",
       "    <tr>\n",
       "      <th>105</th>\n",
       "      <td>0.462</td>\n",
       "      <td>0.911</td>\n",
       "      <td>0.551</td>\n",
       "      <td>0.167</td>\n",
       "      <td>0.154</td>\n",
       "      <td>0.931</td>\n",
       "      <td>0.500</td>\n",
       "      <td>0</td>\n",
       "    </tr>\n",
       "  </tbody>\n",
       "</table>\n",
       "<p>106 rows × 8 columns</p>\n",
       "</div>"
      ],
      "text/plain": [
       "       At1    At2    At3    At4    At5    At6    At7  target\n",
       "0    0.213  0.554  0.207  0.000  0.000  0.749  0.220       1\n",
       "1    0.458  0.714  0.468  0.111  0.102  0.741  0.436       1\n",
       "2    0.102  0.518  0.111  0.056  0.022  0.506  0.086       1\n",
       "3    0.187  0.196  0.105  0.056  0.029  0.133  0.085       1\n",
       "4    0.236  0.804  0.289  0.111  0.066  0.756  0.241       1\n",
       "..     ...    ...    ...    ...    ...    ...    ...     ...\n",
       "101  0.449  0.875  0.523  0.083  0.076  0.920  0.487       0\n",
       "102  0.102  0.000  0.022  0.000  0.000  0.000  0.017       0\n",
       "103  0.409  0.875  0.482  0.306  0.259  0.914  0.443       0\n",
       "104  0.427  0.804  0.474  0.056  0.048  0.836  0.437       0\n",
       "105  0.462  0.911  0.551  0.167  0.154  0.931  0.500       0\n",
       "\n",
       "[106 rows x 8 columns]"
      ]
     },
     "execution_count": 655,
     "metadata": {},
     "output_type": "execute_result"
    }
   ],
   "source": [
    "#appendicitis_data = fetch_data('appendicitis') \n",
    "appendicitis_data = pd.read_csv('appendicitis.csv')\n",
    "appendicitis_data"
   ]
  },
  {
   "cell_type": "markdown",
   "metadata": {},
   "source": [
    "###  a) Split data into train and test (60%/40%)"
   ]
  },
  {
   "cell_type": "code",
   "execution_count": 730,
   "metadata": {},
   "outputs": [
    {
     "data": {
      "text/plain": [
       "<AxesSubplot:xlabel='target', ylabel='Count'>"
      ]
     },
     "execution_count": 730,
     "metadata": {},
     "output_type": "execute_result"
    },
    {
     "data": {
      "image/png": "[encoded data removed]",
      "text/plain": [
       "<Figure size 720x540 with 1 Axes>"
      ]
     },
     "metadata": {},
     "output_type": "display_data"
    }
   ],
   "source": [
    "X = appendicitis_data.drop(\"target\",axis=1)\n",
    "y = appendicitis_data.target\n",
    "# Split data 60%-40% into training set and test set\n",
    "X_train, X_test, y_train, y_test = train_test_split(X, y, test_size=0.40, random_state=42)\n",
    "sns.histplot(y)"
   ]
  },
  {
   "cell_type": "markdown",
   "metadata": {},
   "source": [
    "The histogram of the target variable reveals the imbalance in our dataset."
   ]
  },
  {
   "cell_type": "markdown",
   "metadata": {},
   "source": [
    "###  b) Preprocess adequately for näive bayes, logistic regression and KNN, train and obtain:\n",
    " \n",
    " - the crossvalidation error\n",
    " - the test error\n",
    " - confusion matrix\n",
    " - classification report"
   ]
  },
  {
   "cell_type": "markdown",
   "metadata": {},
   "source": [
    "For this step, we first preprocess the data, then explore the KNN hyperparameters and, lastly, we generate the baseline results."
   ]
  },
  {
   "cell_type": "code",
   "execution_count": 725,
   "metadata": {},
   "outputs": [
    {
     "name": "stdout",
     "output_type": "stream",
     "text": [
      "GridSearch: n_neightbors  7\n"
     ]
    },
    {
     "data": {
      "text/html": [
       "<div>\n",
       "<style scoped>\n",
       "    .dataframe tbody tr th:only-of-type {\n",
       "        vertical-align: middle;\n",
       "    }\n",
       "\n",
       "    .dataframe tbody tr th {\n",
       "        vertical-align: top;\n",
       "    }\n",
       "\n",
       "    .dataframe thead th {\n",
       "        text-align: right;\n",
       "    }\n",
       "</style>\n",
       "<table border=\"1\" class=\"dataframe\">\n",
       "  <thead>\n",
       "    <tr style=\"text-align: right;\">\n",
       "      <th></th>\n",
       "      <th>cross_validation_error_avg</th>\n",
       "      <th>test_error</th>\n",
       "    </tr>\n",
       "  </thead>\n",
       "  <tbody>\n",
       "    <tr>\n",
       "      <th>naive_bayes</th>\n",
       "      <td>0.888</td>\n",
       "      <td>0.814</td>\n",
       "    </tr>\n",
       "    <tr>\n",
       "      <th>KNN</th>\n",
       "      <td>0.888</td>\n",
       "      <td>0.860</td>\n",
       "    </tr>\n",
       "    <tr>\n",
       "      <th>logistic_regression</th>\n",
       "      <td>0.890</td>\n",
       "      <td>0.884</td>\n",
       "    </tr>\n",
       "  </tbody>\n",
       "</table>\n",
       "</div>"
      ],
      "text/plain": [
       "                     cross_validation_error_avg  test_error\n",
       "naive_bayes                               0.888       0.814\n",
       "KNN                                       0.888       0.860\n",
       "logistic_regression                       0.890       0.884"
      ]
     },
     "execution_count": 725,
     "metadata": {},
     "output_type": "execute_result"
    }
   ],
   "source": [
    "X_p_train,X_p_test = preprocess_data(X_train, X_test)\n",
    "n_neighbors = tune_knn_hyperparameters(X_p_train,y_train)\n",
    "results_numeric,results_object = generate_result(X_p_train,X_p_test, y_train, y_test,n_neighbors)\n",
    "\n",
    "baseline_results = pd.DataFrame(results_numeric)\n",
    "baseline_results.T.sort_values('test_error').round(3)"
   ]
  },
  {
   "cell_type": "markdown",
   "metadata": {},
   "source": [
    "As we can see in our preliminary results, all models have desirable scores. Although Näive Bayes presents some overfitting."
   ]
  },
  {
   "cell_type": "code",
   "execution_count": 658,
   "metadata": {},
   "outputs": [
    {
     "data": {
      "text/html": [
       "<div>\n",
       "<style scoped>\n",
       "    .dataframe tbody tr th:only-of-type {\n",
       "        vertical-align: middle;\n",
       "    }\n",
       "\n",
       "    .dataframe tbody tr th {\n",
       "        vertical-align: top;\n",
       "    }\n",
       "\n",
       "    .dataframe thead th {\n",
       "        text-align: right;\n",
       "    }\n",
       "</style>\n",
       "<table border=\"1\" class=\"dataframe\">\n",
       "  <thead>\n",
       "    <tr style=\"text-align: right;\">\n",
       "      <th></th>\n",
       "      <th></th>\n",
       "      <th>0</th>\n",
       "      <th>1</th>\n",
       "      <th>accuracy</th>\n",
       "      <th>macro avg</th>\n",
       "      <th>weighted avg</th>\n",
       "    </tr>\n",
       "  </thead>\n",
       "  <tbody>\n",
       "    <tr>\n",
       "      <th rowspan=\"4\" valign=\"top\">naive_bayes</th>\n",
       "      <th>precision</th>\n",
       "      <td>0.94</td>\n",
       "      <td>0.67</td>\n",
       "      <td>0.89</td>\n",
       "      <td>0.80</td>\n",
       "      <td>0.89</td>\n",
       "    </tr>\n",
       "    <tr>\n",
       "      <th>recall</th>\n",
       "      <td>0.92</td>\n",
       "      <td>0.73</td>\n",
       "      <td>0.89</td>\n",
       "      <td>0.83</td>\n",
       "      <td>0.89</td>\n",
       "    </tr>\n",
       "    <tr>\n",
       "      <th>f1-score</th>\n",
       "      <td>0.93</td>\n",
       "      <td>0.70</td>\n",
       "      <td>0.89</td>\n",
       "      <td>0.81</td>\n",
       "      <td>0.89</td>\n",
       "    </tr>\n",
       "    <tr>\n",
       "      <th>support</th>\n",
       "      <td>52.00</td>\n",
       "      <td>11.00</td>\n",
       "      <td>0.89</td>\n",
       "      <td>63.00</td>\n",
       "      <td>63.00</td>\n",
       "    </tr>\n",
       "    <tr>\n",
       "      <th rowspan=\"4\" valign=\"top\">logistic_regression</th>\n",
       "      <th>precision</th>\n",
       "      <td>0.93</td>\n",
       "      <td>0.88</td>\n",
       "      <td>0.92</td>\n",
       "      <td>0.90</td>\n",
       "      <td>0.92</td>\n",
       "    </tr>\n",
       "    <tr>\n",
       "      <th>recall</th>\n",
       "      <td>0.98</td>\n",
       "      <td>0.64</td>\n",
       "      <td>0.92</td>\n",
       "      <td>0.81</td>\n",
       "      <td>0.92</td>\n",
       "    </tr>\n",
       "    <tr>\n",
       "      <th>f1-score</th>\n",
       "      <td>0.95</td>\n",
       "      <td>0.74</td>\n",
       "      <td>0.92</td>\n",
       "      <td>0.85</td>\n",
       "      <td>0.92</td>\n",
       "    </tr>\n",
       "    <tr>\n",
       "      <th>support</th>\n",
       "      <td>52.00</td>\n",
       "      <td>11.00</td>\n",
       "      <td>0.92</td>\n",
       "      <td>63.00</td>\n",
       "      <td>63.00</td>\n",
       "    </tr>\n",
       "    <tr>\n",
       "      <th rowspan=\"4\" valign=\"top\">KNN</th>\n",
       "      <th>precision</th>\n",
       "      <td>0.92</td>\n",
       "      <td>0.70</td>\n",
       "      <td>0.89</td>\n",
       "      <td>0.81</td>\n",
       "      <td>0.89</td>\n",
       "    </tr>\n",
       "    <tr>\n",
       "      <th>recall</th>\n",
       "      <td>0.94</td>\n",
       "      <td>0.64</td>\n",
       "      <td>0.89</td>\n",
       "      <td>0.79</td>\n",
       "      <td>0.89</td>\n",
       "    </tr>\n",
       "    <tr>\n",
       "      <th>f1-score</th>\n",
       "      <td>0.93</td>\n",
       "      <td>0.67</td>\n",
       "      <td>0.89</td>\n",
       "      <td>0.80</td>\n",
       "      <td>0.89</td>\n",
       "    </tr>\n",
       "    <tr>\n",
       "      <th>support</th>\n",
       "      <td>52.00</td>\n",
       "      <td>11.00</td>\n",
       "      <td>0.89</td>\n",
       "      <td>63.00</td>\n",
       "      <td>63.00</td>\n",
       "    </tr>\n",
       "  </tbody>\n",
       "</table>\n",
       "</div>"
      ],
      "text/plain": [
       "                                   0      1  accuracy  macro avg  weighted avg\n",
       "naive_bayes         precision   0.94   0.67      0.89       0.80          0.89\n",
       "                    recall      0.92   0.73      0.89       0.83          0.89\n",
       "                    f1-score    0.93   0.70      0.89       0.81          0.89\n",
       "                    support    52.00  11.00      0.89      63.00         63.00\n",
       "logistic_regression precision   0.93   0.88      0.92       0.90          0.92\n",
       "                    recall      0.98   0.64      0.92       0.81          0.92\n",
       "                    f1-score    0.95   0.74      0.92       0.85          0.92\n",
       "                    support    52.00  11.00      0.92      63.00         63.00\n",
       "KNN                 precision   0.92   0.70      0.89       0.81          0.89\n",
       "                    recall      0.94   0.64      0.89       0.79          0.89\n",
       "                    f1-score    0.93   0.67      0.89       0.80          0.89\n",
       "                    support    52.00  11.00      0.89      63.00         63.00"
      ]
     },
     "execution_count": 658,
     "metadata": {},
     "output_type": "execute_result"
    }
   ],
   "source": [
    "clfs_df,conf_mat_df =results_object_to_dataframe(results_object)\n",
    "clfs_df"
   ]
  },
  {
   "cell_type": "markdown",
   "metadata": {},
   "source": [
    "The classification reports of each models are very similar, but looking closely, Logistic Regression offers a slighly better precision for both types of patients. Although that might not be that relevant since the number of patients with appendicitis (label 1) is small compared to the patients without it (label 0)"
   ]
  },
  {
   "cell_type": "code",
   "execution_count": 659,
   "metadata": {},
   "outputs": [
    {
     "data": {
      "text/plain": [
       "Text(0.5, 0.98, 'Baseline Confusion Matrices')"
      ]
     },
     "execution_count": 659,
     "metadata": {},
     "output_type": "execute_result"
    },
    {
     "data": {
      "image/png": "[encoded data removed]",
      "text/plain": [
       "<Figure size 1440x360 with 6 Axes>"
      ]
     },
     "metadata": {},
     "output_type": "display_data"
    }
   ],
   "source": [
    "fig, ax = plt.subplots(nrows=1, ncols=3,figsize=(20, 5))\n",
    "index_labels = list(results_object.keys())\n",
    "generate_heatmaps_from_dataframe(conf_mat_df,index_labels,ax)\n",
    "fig.suptitle(\"Baseline Confusion Matrices\", fontsize=16)"
   ]
  },
  {
   "cell_type": "markdown",
   "metadata": {},
   "source": [
    "The confusion matrices of each of the models show similar results as well as their respective classification reports. In this case we can observe that Näive Bayes, which has the highest recall in the report, predicts 3 false negatives which only differs with the other models by 1. This means that each 10% of the recall is due to a single patient with appendicitis classified without it."
   ]
  },
  {
   "cell_type": "markdown",
   "metadata": {},
   "source": [
    "### c) Use KbinsDiscretizer to discretize continuous data.\n",
    "\n",
    "Apply the following discretizations:\n",
    "- quantile\n",
    "- kmeans\n",
    "\n",
    "Obtaining a discretization into 2,3,4 values.(Use onehot-dense as encoding to set each value as attribute)\n",
    "\n",
    "Fit the models and compare results. \n",
    "- Has this process affected to the quality of the models?\n",
    "- Which one would you chose and why?\n",
    "\n"
   ]
  },
  {
   "cell_type": "markdown",
   "metadata": {},
   "source": [
    "For each strategy and number of bins we preprocess the data with the given strategy and number of bins, obtain the KNN hyperparameters and generate the results for later inspection."
   ]
  },
  {
   "cell_type": "code",
   "execution_count": 660,
   "metadata": {},
   "outputs": [
    {
     "name": "stdout",
     "output_type": "stream",
     "text": [
      "GridSearch: n_neightbors  3\n",
      "GridSearch: n_neightbors  9\n",
      "GridSearch: n_neightbors  2\n",
      "GridSearch: n_neightbors  11\n",
      "GridSearch: n_neightbors  7\n",
      "GridSearch: n_neightbors  11\n"
     ]
    }
   ],
   "source": [
    "#Discretize variables and generate results for various parameters\n",
    "strategies = ['quantile','kmeans']\n",
    "n_bins_list = [2,3,4]\n",
    "discretization_results = {}\n",
    "for strategy in strategies:\n",
    "    aux_results = {}\n",
    "    for n_bins in n_bins_list:\n",
    "        X_p_train,X_p_test = preprocess_data(X_train, X_test,bins=n_bins,new_strategy=strategy)\n",
    "        n_neighbors = tune_knn_hyperparameters(X_p_train,y_train)\n",
    "        results,_ = generate_result(X_p_train,X_p_test, y_train, y_test,n_neighbors)\n",
    "        aux_results[n_bins] = results\n",
    "    discretization_results[strategy] = aux_results\n"
   ]
  },
  {
   "cell_type": "markdown",
   "metadata": {},
   "source": [
    "Transform the results to a Dataframe for easier manipulation."
   ]
  },
  {
   "cell_type": "code",
   "execution_count": 675,
   "metadata": {},
   "outputs": [
    {
     "data": {
      "text/html": [
       "<div>\n",
       "<style scoped>\n",
       "    .dataframe tbody tr th:only-of-type {\n",
       "        vertical-align: middle;\n",
       "    }\n",
       "\n",
       "    .dataframe tbody tr th {\n",
       "        vertical-align: top;\n",
       "    }\n",
       "\n",
       "    .dataframe thead th {\n",
       "        text-align: right;\n",
       "    }\n",
       "</style>\n",
       "<table border=\"1\" class=\"dataframe\">\n",
       "  <thead>\n",
       "    <tr style=\"text-align: right;\">\n",
       "      <th></th>\n",
       "      <th></th>\n",
       "      <th></th>\n",
       "      <th>cross_validation_error_avg</th>\n",
       "      <th>test_error</th>\n",
       "    </tr>\n",
       "    <tr>\n",
       "      <th>strategy</th>\n",
       "      <th>bins</th>\n",
       "      <th>model</th>\n",
       "      <th></th>\n",
       "      <th></th>\n",
       "    </tr>\n",
       "  </thead>\n",
       "  <tbody>\n",
       "    <tr>\n",
       "      <th>baseline</th>\n",
       "      <th>0</th>\n",
       "      <th>logistic_regression</th>\n",
       "      <td>0.890</td>\n",
       "      <td>0.884</td>\n",
       "    </tr>\n",
       "    <tr>\n",
       "      <th rowspan=\"2\" valign=\"top\">kmeans</th>\n",
       "      <th>4</th>\n",
       "      <th>KNN</th>\n",
       "      <td>0.921</td>\n",
       "      <td>0.884</td>\n",
       "    </tr>\n",
       "    <tr>\n",
       "      <th>3</th>\n",
       "      <th>logistic_regression</th>\n",
       "      <td>0.764</td>\n",
       "      <td>0.884</td>\n",
       "    </tr>\n",
       "    <tr>\n",
       "      <th>baseline</th>\n",
       "      <th>0</th>\n",
       "      <th>KNN</th>\n",
       "      <td>0.888</td>\n",
       "      <td>0.860</td>\n",
       "    </tr>\n",
       "    <tr>\n",
       "      <th>kmeans</th>\n",
       "      <th>3</th>\n",
       "      <th>KNN</th>\n",
       "      <td>0.873</td>\n",
       "      <td>0.860</td>\n",
       "    </tr>\n",
       "    <tr>\n",
       "      <th rowspan=\"3\" valign=\"top\">quantile</th>\n",
       "      <th>4</th>\n",
       "      <th>KNN</th>\n",
       "      <td>0.905</td>\n",
       "      <td>0.860</td>\n",
       "    </tr>\n",
       "    <tr>\n",
       "      <th>3</th>\n",
       "      <th>logistic_regression</th>\n",
       "      <td>0.735</td>\n",
       "      <td>0.837</td>\n",
       "    </tr>\n",
       "    <tr>\n",
       "      <th>2</th>\n",
       "      <th>logistic_regression</th>\n",
       "      <td>0.873</td>\n",
       "      <td>0.814</td>\n",
       "    </tr>\n",
       "    <tr>\n",
       "      <th>baseline</th>\n",
       "      <th>0</th>\n",
       "      <th>naive_bayes</th>\n",
       "      <td>0.888</td>\n",
       "      <td>0.814</td>\n",
       "    </tr>\n",
       "    <tr>\n",
       "      <th rowspan=\"2\" valign=\"top\">kmeans</th>\n",
       "      <th rowspan=\"2\" valign=\"top\">2</th>\n",
       "      <th>KNN</th>\n",
       "      <td>0.873</td>\n",
       "      <td>0.814</td>\n",
       "    </tr>\n",
       "    <tr>\n",
       "      <th>logistic_regression</th>\n",
       "      <td>0.872</td>\n",
       "      <td>0.814</td>\n",
       "    </tr>\n",
       "    <tr>\n",
       "      <th rowspan=\"2\" valign=\"top\">quantile</th>\n",
       "      <th>3</th>\n",
       "      <th>KNN</th>\n",
       "      <td>0.888</td>\n",
       "      <td>0.814</td>\n",
       "    </tr>\n",
       "    <tr>\n",
       "      <th>2</th>\n",
       "      <th>KNN</th>\n",
       "      <td>0.873</td>\n",
       "      <td>0.814</td>\n",
       "    </tr>\n",
       "    <tr>\n",
       "      <th>kmeans</th>\n",
       "      <th>4</th>\n",
       "      <th>logistic_regression</th>\n",
       "      <td>0.844</td>\n",
       "      <td>0.791</td>\n",
       "    </tr>\n",
       "    <tr>\n",
       "      <th rowspan=\"3\" valign=\"top\">quantile</th>\n",
       "      <th>2</th>\n",
       "      <th>naive_bayes</th>\n",
       "      <td>0.779</td>\n",
       "      <td>0.791</td>\n",
       "    </tr>\n",
       "    <tr>\n",
       "      <th>4</th>\n",
       "      <th>logistic_regression</th>\n",
       "      <td>0.810</td>\n",
       "      <td>0.744</td>\n",
       "    </tr>\n",
       "    <tr>\n",
       "      <th>3</th>\n",
       "      <th>naive_bayes</th>\n",
       "      <td>0.812</td>\n",
       "      <td>0.744</td>\n",
       "    </tr>\n",
       "    <tr>\n",
       "      <th>kmeans</th>\n",
       "      <th>4</th>\n",
       "      <th>naive_bayes</th>\n",
       "      <td>0.619</td>\n",
       "      <td>0.721</td>\n",
       "    </tr>\n",
       "    <tr>\n",
       "      <th>quantile</th>\n",
       "      <th>4</th>\n",
       "      <th>naive_bayes</th>\n",
       "      <td>0.697</td>\n",
       "      <td>0.698</td>\n",
       "    </tr>\n",
       "    <tr>\n",
       "      <th rowspan=\"2\" valign=\"top\">kmeans</th>\n",
       "      <th>3</th>\n",
       "      <th>naive_bayes</th>\n",
       "      <td>0.415</td>\n",
       "      <td>0.442</td>\n",
       "    </tr>\n",
       "    <tr>\n",
       "      <th>2</th>\n",
       "      <th>naive_bayes</th>\n",
       "      <td>0.447</td>\n",
       "      <td>0.419</td>\n",
       "    </tr>\n",
       "  </tbody>\n",
       "</table>\n",
       "</div>"
      ],
      "text/plain": [
       "                                   cross_validation_error_avg  test_error\n",
       "strategy bins model                                                      \n",
       "baseline 0    logistic_regression                       0.890       0.884\n",
       "kmeans   4    KNN                                       0.921       0.884\n",
       "         3    logistic_regression                       0.764       0.884\n",
       "baseline 0    KNN                                       0.888       0.860\n",
       "kmeans   3    KNN                                       0.873       0.860\n",
       "quantile 4    KNN                                       0.905       0.860\n",
       "         3    logistic_regression                       0.735       0.837\n",
       "         2    logistic_regression                       0.873       0.814\n",
       "baseline 0    naive_bayes                               0.888       0.814\n",
       "kmeans   2    KNN                                       0.873       0.814\n",
       "              logistic_regression                       0.872       0.814\n",
       "quantile 3    KNN                                       0.888       0.814\n",
       "         2    KNN                                       0.873       0.814\n",
       "kmeans   4    logistic_regression                       0.844       0.791\n",
       "quantile 2    naive_bayes                               0.779       0.791\n",
       "         4    logistic_regression                       0.810       0.744\n",
       "         3    naive_bayes                               0.812       0.744\n",
       "kmeans   4    naive_bayes                               0.619       0.721\n",
       "quantile 4    naive_bayes                               0.697       0.698\n",
       "kmeans   3    naive_bayes                               0.415       0.442\n",
       "         2    naive_bayes                               0.447       0.419"
      ]
     },
     "execution_count": 675,
     "metadata": {},
     "output_type": "execute_result"
    }
   ],
   "source": [
    "baseline_results_n = baseline_results.T.copy(deep=True)\n",
    "baseline_results_n.index = pd.MultiIndex.from_product([[0], baseline_results_n.index ], names=['bins', 'model'])\n",
    "quantile_df = pd.concat({\n",
    "        k: pd.DataFrame.from_dict(v, 'index') for k, v in discretization_results['quantile'].items()\n",
    "    }, \n",
    "    axis=0)\n",
    "kmeans_df = pd.concat({\n",
    "        k: pd.DataFrame.from_dict(v, 'index') for k, v in discretization_results['kmeans'].items()\n",
    "    }, \n",
    "    axis=0)\n",
    "results_df = pd.concat([ quantile_df, kmeans_df,baseline_results_n ], keys=['quantile','kmeans','baseline'],axis=0)\n",
    "results_df.index.names = ['strategy','bins','model']\n",
    "sorted_results = results_df.sort_values('test_error',ascending=False).round(3)\n",
    "sorted_results"
   ]
  },
  {
   "cell_type": "markdown",
   "metadata": {},
   "source": [
    "Looking at the Dataframe with the final results, one can see that the models with better scores are mainly Logistic Regression and KNN with different strategies"
   ]
  },
  {
   "cell_type": "code",
   "execution_count": 708,
   "metadata": {},
   "outputs": [
    {
     "data": {
      "text/plain": [
       "Text(0.5, 0.98, 'Cross Validation and Test errors of Trained Models')"
      ]
     },
     "execution_count": 708,
     "metadata": {},
     "output_type": "execute_result"
    },
    {
     "data": {
      "image/png": "[encoded data removed]",
      "text/plain": [
       "<Figure size 720x540 with 1 Axes>"
      ]
     },
     "metadata": {},
     "output_type": "display_data"
    }
   ],
   "source": [
    "ax = sorted_results.plot(rot=90,xticks=np.arange(0,21))\n",
    "plt.suptitle(\"Cross Validation and Test errors of Trained Models\")"
   ]
  },
  {
   "cell_type": "markdown",
   "metadata": {},
   "source": [
    "Looking at the above graph, one can see that several models present some degree of overfitting. Interestingly the baseline model Logistic Regression is the best model overall, with the best score and little overfitting.\n",
    "\n",
    "Following the Occam's razor principle one could pick the baseline logistic regression model since it's the simplest model overall, but given the sensitive nature of our dataset it would be advisable to explore more alternatives to improve the model."
   ]
  },
  {
   "cell_type": "code",
   "execution_count": 722,
   "metadata": {},
   "outputs": [
    {
     "data": {
      "text/plain": [
       "Text(0.5, 1.0, 'Kmeans Strategy')"
      ]
     },
     "execution_count": 722,
     "metadata": {},
     "output_type": "execute_result"
    },
    {
     "data": {
      "image/png": "[encoded data removed]",
      "text/plain": [
       "<Figure size 1080x504 with 2 Axes>"
      ]
     },
     "metadata": {},
     "output_type": "display_data"
    }
   ],
   "source": [
    "fig, ax = plt.subplots(nrows=1, ncols=2,figsize=(15, 7),sharey=True)\n",
    "fig.suptitle(\"Scores and Bins Using Different Strategies\", fontsize=16)\n",
    "\n",
    "df = sorted_results.loc[\"quantile\"].sort_values('model')\n",
    "sns.lineplot(x='bins', y=\"test_error\", hue=\"model\", data=df,ax=ax[0]).set_title(\"Quantile Strategy\")\n",
    "df = sorted_results.loc[\"kmeans\"].sort_values('model')\n",
    "sns.lineplot(x='bins', y=\"test_error\", hue=\"model\", data=df, ax=ax[1]).set_title(\"Kmeans Strategy\")"
   ]
  },
  {
   "cell_type": "markdown",
   "metadata": {},
   "source": [
    "Here we can see how the binarization affects the different models. For example Näive Bayes using the quantile strategy decreases its accuracy when we increase the number of bins whereas using Kmeans as the discretization strategy follows an inverse trend which with sufficient bins maybe could improve the model but for the bins tested with either strategy we don't achieve better results than the baseline.\n",
    "\n",
    "For Logistic regression we can see that with 3 bins we find a local maximum in both strategies. Also when using the Kmeans strategy we obtain the same result as the KNN model with less bins.\n",
    "\n",
    "Lastly, we can see that by discretizing the variables and using more bins we seem to always improve the KNN model."
   ]
  },
  {
   "cell_type": "markdown",
   "metadata": {},
   "source": [
    "### d) Considering the interpretability of the models:\n",
    "- do you think that has advantages to work\n",
    "with discretized data?\n",
    "- why?"
   ]
  },
  {
   "cell_type": "markdown",
   "metadata": {},
   "source": [
    "As we have seen previously, working with discretized data improves the performance of some models in certain conditions (Logistic regression with 3 bins, KNN with more bins) but for others (Bayes) it worsens the performance. \n",
    "\n",
    "Furthermore, given that the best model in our tests doesn't even require to discretize data shows that the advantage is minimal to none (at least with the number of bins tested). Maybe exploring a wider range of bins would allow us to be able to obtain some meaningful results. But with the current results it doesn't seem to have a significant impact.\n",
    "\n",
    "\n"
   ]
  }
 ],
 "metadata": {
  "interpreter": {
   "hash": "63fd5069d213b44bf678585dea6b12cceca9941eaf7f819626cde1f2670de90d"
  },
  "kernelspec": {
   "display_name": "Python 3.9.6 64-bit",
   "language": "python",
   "name": "python3"
  },
  "language_info": {
   "codemirror_mode": {
    "name": "ipython",
    "version": 3
   },
   "file_extension": ".py",
   "mimetype": "text/x-python",
   "name": "python",
   "nbconvert_exporter": "python",
   "pygments_lexer": "ipython3",
   "version": "3.9.6"
  },
  "orig_nbformat": 4
 },
 "nbformat": 4,
 "nbformat_minor": 2
}
