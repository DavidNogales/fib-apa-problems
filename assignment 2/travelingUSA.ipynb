{
 "cells": [
  {
   "cell_type": "markdown",
   "metadata": {},
   "source": [
    "<h1>8. Traveling through the USA<h1>\n"
   ]
  },
  {
   "cell_type": "markdown",
   "metadata": {},
   "source": [
    "Reading data."
   ]
  },
  {
   "cell_type": "code",
   "execution_count": 20,
   "metadata": {},
   "outputs": [
    {
     "data": {
      "text/html": [
       "<div>\n",
       "<style scoped>\n",
       "    .dataframe tbody tr th:only-of-type {\n",
       "        vertical-align: middle;\n",
       "    }\n",
       "\n",
       "    .dataframe tbody tr th {\n",
       "        vertical-align: top;\n",
       "    }\n",
       "\n",
       "    .dataframe thead th {\n",
       "        text-align: right;\n",
       "    }\n",
       "</style>\n",
       "<table border=\"1\" class=\"dataframe\">\n",
       "  <thead>\n",
       "    <tr style=\"text-align: right;\">\n",
       "      <th></th>\n",
       "      <th>City</th>\n",
       "      <th>Distance</th>\n",
       "      <th>Fare</th>\n",
       "    </tr>\n",
       "  </thead>\n",
       "  <tbody>\n",
       "    <tr>\n",
       "      <th>0</th>\n",
       "      <td>Atlanta</td>\n",
       "      <td>576</td>\n",
       "      <td>178</td>\n",
       "    </tr>\n",
       "    <tr>\n",
       "      <th>1</th>\n",
       "      <td>Boston</td>\n",
       "      <td>370</td>\n",
       "      <td>138</td>\n",
       "    </tr>\n",
       "    <tr>\n",
       "      <th>2</th>\n",
       "      <td>Chicago</td>\n",
       "      <td>612</td>\n",
       "      <td>94</td>\n",
       "    </tr>\n",
       "    <tr>\n",
       "      <th>3</th>\n",
       "      <td>Dallas</td>\n",
       "      <td>1216</td>\n",
       "      <td>278</td>\n",
       "    </tr>\n",
       "    <tr>\n",
       "      <th>4</th>\n",
       "      <td>Detroit</td>\n",
       "      <td>409</td>\n",
       "      <td>158</td>\n",
       "    </tr>\n",
       "    <tr>\n",
       "      <th>5</th>\n",
       "      <td>Denver</td>\n",
       "      <td>1502</td>\n",
       "      <td>258</td>\n",
       "    </tr>\n",
       "    <tr>\n",
       "      <th>6</th>\n",
       "      <td>Miami</td>\n",
       "      <td>946</td>\n",
       "      <td>198</td>\n",
       "    </tr>\n",
       "    <tr>\n",
       "      <th>7</th>\n",
       "      <td>NewOrleans</td>\n",
       "      <td>998</td>\n",
       "      <td>188</td>\n",
       "    </tr>\n",
       "    <tr>\n",
       "      <th>8</th>\n",
       "      <td>NewYork</td>\n",
       "      <td>189</td>\n",
       "      <td>98</td>\n",
       "    </tr>\n",
       "    <tr>\n",
       "      <th>9</th>\n",
       "      <td>Orlando</td>\n",
       "      <td>787</td>\n",
       "      <td>179</td>\n",
       "    </tr>\n",
       "    <tr>\n",
       "      <th>10</th>\n",
       "      <td>Pittsburgh</td>\n",
       "      <td>210</td>\n",
       "      <td>138</td>\n",
       "    </tr>\n",
       "    <tr>\n",
       "      <th>11</th>\n",
       "      <td>St.Louis</td>\n",
       "      <td>737</td>\n",
       "      <td>98</td>\n",
       "    </tr>\n",
       "  </tbody>\n",
       "</table>\n",
       "</div>"
      ],
      "text/plain": [
       "          City  Distance  Fare\n",
       "0      Atlanta       576   178\n",
       "1       Boston       370   138\n",
       "2      Chicago       612    94\n",
       "3       Dallas      1216   278\n",
       "4      Detroit       409   158\n",
       "5       Denver      1502   258\n",
       "6        Miami       946   198\n",
       "7   NewOrleans       998   188\n",
       "8      NewYork       189    98\n",
       "9      Orlando       787   179\n",
       "10  Pittsburgh       210   138\n",
       "11    St.Louis       737    98"
      ]
     },
     "execution_count": 20,
     "metadata": {},
     "output_type": "execute_result"
    }
   ],
   "source": [
    "import pandas as pd\n",
    "import numpy as np\n",
    "from sklearn.linear_model import LinearRegression\n",
    "from sklearn.metrics import r2_score,mean_squared_error,mean_absolute_error\n",
    "import matplotlib.pyplot as plt\n",
    "import seaborn as sns; sns.set_theme()\n",
    "\n",
    "data_df = pd.read_csv('traveling_data.csv')\n",
    "data_df"
   ]
  },
  {
   "cell_type": "markdown",
   "metadata": {},
   "source": [
    "a) Predicting Fare through Distance variable\n",
    "--------------------------------------------"
   ]
  },
  {
   "cell_type": "markdown",
   "metadata": {},
   "source": [
    "Reshaping data"
   ]
  },
  {
   "cell_type": "code",
   "execution_count": 21,
   "metadata": {},
   "outputs": [],
   "source": [
    "X = data_df.Distance.array.reshape(-1,1)\n",
    "y = data_df.Fare.array.reshape(-1,1)"
   ]
  },
  {
   "cell_type": "markdown",
   "metadata": {},
   "source": [
    "Training Linear Regression Model"
   ]
  },
  {
   "cell_type": "code",
   "execution_count": 22,
   "metadata": {},
   "outputs": [],
   "source": [
    "regressor_linear = LinearRegression()\n",
    "regressor_linear.fit(X,y)\n",
    "y_predicted = regressor_linear.predict(X)"
   ]
  },
  {
   "cell_type": "markdown",
   "metadata": {},
   "source": [
    "Adding model prediction to the dataframe"
   ]
  },
  {
   "cell_type": "code",
   "execution_count": 23,
   "metadata": {},
   "outputs": [
    {
     "data": {
      "text/html": [
       "<div>\n",
       "<style scoped>\n",
       "    .dataframe tbody tr th:only-of-type {\n",
       "        vertical-align: middle;\n",
       "    }\n",
       "\n",
       "    .dataframe tbody tr th {\n",
       "        vertical-align: top;\n",
       "    }\n",
       "\n",
       "    .dataframe thead th {\n",
       "        text-align: right;\n",
       "    }\n",
       "</style>\n",
       "<table border=\"1\" class=\"dataframe\">\n",
       "  <thead>\n",
       "    <tr style=\"text-align: right;\">\n",
       "      <th></th>\n",
       "      <th>City</th>\n",
       "      <th>Distance</th>\n",
       "      <th>Fare</th>\n",
       "      <th>Prediction</th>\n",
       "    </tr>\n",
       "  </thead>\n",
       "  <tbody>\n",
       "    <tr>\n",
       "      <th>0</th>\n",
       "      <td>Atlanta</td>\n",
       "      <td>576</td>\n",
       "      <td>178</td>\n",
       "      <td>150.875405</td>\n",
       "    </tr>\n",
       "    <tr>\n",
       "      <th>1</th>\n",
       "      <td>Boston</td>\n",
       "      <td>370</td>\n",
       "      <td>138</td>\n",
       "      <td>126.696136</td>\n",
       "    </tr>\n",
       "    <tr>\n",
       "      <th>2</th>\n",
       "      <td>Chicago</td>\n",
       "      <td>612</td>\n",
       "      <td>94</td>\n",
       "      <td>155.100908</td>\n",
       "    </tr>\n",
       "    <tr>\n",
       "      <th>3</th>\n",
       "      <td>Dallas</td>\n",
       "      <td>1216</td>\n",
       "      <td>278</td>\n",
       "      <td>225.995461</td>\n",
       "    </tr>\n",
       "    <tr>\n",
       "      <th>4</th>\n",
       "      <td>Detroit</td>\n",
       "      <td>409</td>\n",
       "      <td>158</td>\n",
       "      <td>131.273765</td>\n",
       "    </tr>\n",
       "    <tr>\n",
       "      <th>5</th>\n",
       "      <td>Denver</td>\n",
       "      <td>1502</td>\n",
       "      <td>258</td>\n",
       "      <td>259.564736</td>\n",
       "    </tr>\n",
       "    <tr>\n",
       "      <th>6</th>\n",
       "      <td>Miami</td>\n",
       "      <td>946</td>\n",
       "      <td>198</td>\n",
       "      <td>194.304187</td>\n",
       "    </tr>\n",
       "    <tr>\n",
       "      <th>7</th>\n",
       "      <td>NewOrleans</td>\n",
       "      <td>998</td>\n",
       "      <td>188</td>\n",
       "      <td>200.407692</td>\n",
       "    </tr>\n",
       "    <tr>\n",
       "      <th>8</th>\n",
       "      <td>NewYork</td>\n",
       "      <td>189</td>\n",
       "      <td>98</td>\n",
       "      <td>105.451245</td>\n",
       "    </tr>\n",
       "    <tr>\n",
       "      <th>9</th>\n",
       "      <td>Orlando</td>\n",
       "      <td>787</td>\n",
       "      <td>179</td>\n",
       "      <td>175.641548</td>\n",
       "    </tr>\n",
       "    <tr>\n",
       "      <th>10</th>\n",
       "      <td>Pittsburgh</td>\n",
       "      <td>210</td>\n",
       "      <td>138</td>\n",
       "      <td>107.916122</td>\n",
       "    </tr>\n",
       "    <tr>\n",
       "      <th>11</th>\n",
       "      <td>St.Louis</td>\n",
       "      <td>737</td>\n",
       "      <td>98</td>\n",
       "      <td>169.772794</td>\n",
       "    </tr>\n",
       "  </tbody>\n",
       "</table>\n",
       "</div>"
      ],
      "text/plain": [
       "          City  Distance  Fare  Prediction\n",
       "0      Atlanta       576   178  150.875405\n",
       "1       Boston       370   138  126.696136\n",
       "2      Chicago       612    94  155.100908\n",
       "3       Dallas      1216   278  225.995461\n",
       "4      Detroit       409   158  131.273765\n",
       "5       Denver      1502   258  259.564736\n",
       "6        Miami       946   198  194.304187\n",
       "7   NewOrleans       998   188  200.407692\n",
       "8      NewYork       189    98  105.451245\n",
       "9      Orlando       787   179  175.641548\n",
       "10  Pittsburgh       210   138  107.916122\n",
       "11    St.Louis       737    98  169.772794"
      ]
     },
     "execution_count": 23,
     "metadata": {},
     "output_type": "execute_result"
    }
   ],
   "source": [
    "y_predicted = y_predicted.reshape(1,-1)[0]\n",
    "data_df[\"Prediction\"] = y_predicted\n",
    "data_df"
   ]
  },
  {
   "cell_type": "markdown",
   "metadata": {},
   "source": [
    "Plotting data and predicted solution"
   ]
  },
  {
   "cell_type": "code",
   "execution_count": 24,
   "metadata": {},
   "outputs": [
    {
     "name": "stdout",
     "output_type": "stream",
     "text": [
      "--------------- No Values Dropped -------------\n",
      "Mean squared error: 1192.40\n",
      "Mean absolute error: 25.72\n",
      "Coefficient of determination: 0.63\n",
      "--------------------------------------\n"
     ]
    },
    {
     "data": {
      "image/png": "[encoded data removed]",
      "text/plain": [
       "<Figure size 432x288 with 1 Axes>"
      ]
     },
     "metadata": {},
     "output_type": "display_data"
    }
   ],
   "source": [
    "def train_and_get_results(new_data_df,dropped_cities,results,method,ax=None,print_info=False,line_color='red',draw_points=False):\n",
    "    #Training model\n",
    "    X = new_data_df.Distance.array.reshape(-1,1)\n",
    "    y = new_data_df.Fare.array.reshape(-1,1)\n",
    "    regressor_linear = LinearRegression()\n",
    "    regressor_linear.fit(X,y)\n",
    "    y_predicted = regressor_linear.predict(X)\n",
    "    y_predicted = y_predicted.reshape(1,-1)[0]\n",
    "    new_data_df[\"Prediction\"] = y_predicted\n",
    "    #For plotting prediction\n",
    "    if ax!=None:\n",
    "        if draw_points:\n",
    "            new_data_df.plot(kind=\"scatter\",x=\"Distance\",y=\"Fare\",c=\"blue\",ax=ax)\n",
    "            new_data_df.plot(kind=\"scatter\",x=\"Distance\",y=\"Prediction\",ylabel=\"Fare\",ax=ax,c=line_color)\n",
    "        ax.legend(['Real Fare','Predicted Fare'])\n",
    "        ax.plot(X, y_predicted, color=line_color, linewidth=3,alpha=0.3)\n",
    "        ax.set_title(method,fontweight =\"bold\")\n",
    "    #Getting different metrics\n",
    "    mse = mean_squared_error(y, y_predicted)\n",
    "    mae = mean_absolute_error(y, y_predicted)\n",
    "    r2 = r2_score(y, y_predicted)\n",
    "    if(print_info):\n",
    "        print('---------------',method,'-------------')\n",
    "        print(\"Mean squared error: %.2f\" % mse)\n",
    "        print(\"Mean absolute error: %.2f\" % mae)\n",
    "        print(\"Coefficient of determination: %.2f\" % r2)\n",
    "        print('--------------------------------------')\n",
    "    #Saving results\n",
    "    results[method]= {'MSE':round(mse,2),'MAE':round(mae,2),'R2':round(r2,2),'Dropped Cities':dropped_cities,'Coeff':round(regressor_linear.coef_[0][0],2),'Intercept':round(regressor_linear.intercept_[0],2)}\n",
    "results = {}\n",
    "figs, ax1 = plt.subplots(1, 1)\n",
    "train_and_get_results(new_data_df=data_df,dropped_cities='None',results=results,method=\"No Values Dropped\",ax=ax1,print_info=True,draw_points=True)"
   ]
  },
  {
   "cell_type": "markdown",
   "metadata": {},
   "source": [
    "b) Detecting and treating outliers/extreme values to improve the model\n",
    "-------------------------------------------------------------"
   ]
  },
  {
   "cell_type": "markdown",
   "metadata": {},
   "source": [
    "Using the Interquartile Range Method (IQR)\n",
    "------------------------------------------\n",
    "An outlier is a data point that falls outside of 1.5 times of an Interquartile range above the 3rd quartile (Q3) and below the 1st quartile (Q1)"
   ]
  },
  {
   "cell_type": "code",
   "execution_count": 25,
   "metadata": {},
   "outputs": [
    {
     "name": "stdout",
     "output_type": "stream",
     "text": [
      "Q1: 128.0 \n",
      "Q3: 190.5 \n",
      "IQR: 62.5\n",
      "min: 34.25 max: 284.25\n"
     ]
    }
   ],
   "source": [
    "Q1=data_df['Fare'].quantile(0.25)\n",
    "Q3=data_df['Fare'].quantile(0.75)\n",
    "IQR=Q3-Q1\n",
    "print('Q1:',Q1,'\\nQ3:',Q3,'\\nIQR:',IQR)\n",
    "min_threshold = Q1-1.5*IQR\n",
    "max_threshold = Q3+1.5*IQR\n",
    "print('min:',min_threshold,'max:',max_threshold)"
   ]
  },
  {
   "cell_type": "code",
   "execution_count": 26,
   "metadata": {},
   "outputs": [
    {
     "data": {
      "text/plain": [
       "<AxesSubplot:xlabel='Fare'>"
      ]
     },
     "execution_count": 26,
     "metadata": {},
     "output_type": "execute_result"
    },
    {
     "data": {
      "image/png": "[encoded data removed]",
      "text/plain": [
       "<Figure size 432x288 with 1 Axes>"
      ]
     },
     "metadata": {},
     "output_type": "display_data"
    }
   ],
   "source": [
    "sns.boxplot(data=data_df,x=\"Fare\")"
   ]
  },
  {
   "cell_type": "markdown",
   "metadata": {},
   "source": [
    "This method does not work for our given dataset since we can't see any outliers defined by this method"
   ]
  },
  {
   "cell_type": "markdown",
   "metadata": {},
   "source": [
    "Using the Standard Deviation Method.\n",
    "----------------------------------"
   ]
  },
  {
   "cell_type": "markdown",
   "metadata": {},
   "source": [
    "With this method, one can find outliers by identifying values which are as more than 3 standard deviations from the mean.  "
   ]
  },
  {
   "cell_type": "code",
   "execution_count": 27,
   "metadata": {},
   "outputs": [
    {
     "name": "stdout",
     "output_type": "stream",
     "text": [
      "Lower threshold -11.446153042333947\n",
      "Upper threshold 345.27948637566726\n",
      "Fare Mean 166.91666666666666\n",
      "Fare Std 59.454273236333535\n"
     ]
    }
   ],
   "source": [
    "\n",
    "data_mean, data_std = data_df['Fare'].mean(),data_df['Fare'].std()\n",
    "threshold = data_std * 3\n",
    "lower, upper = data_mean - threshold, data_mean + threshold\n",
    "print('Lower threshold',lower)\n",
    "print('Upper threshold',upper)\n",
    "print('Fare Mean',data_mean)\n",
    "print('Fare Std',data_std)\n"
   ]
  },
  {
   "cell_type": "code",
   "execution_count": 28,
   "metadata": {},
   "outputs": [
    {
     "data": {
      "text/html": [
       "<div>\n",
       "<style scoped>\n",
       "    .dataframe tbody tr th:only-of-type {\n",
       "        vertical-align: middle;\n",
       "    }\n",
       "\n",
       "    .dataframe tbody tr th {\n",
       "        vertical-align: top;\n",
       "    }\n",
       "\n",
       "    .dataframe thead th {\n",
       "        text-align: right;\n",
       "    }\n",
       "</style>\n",
       "<table border=\"1\" class=\"dataframe\">\n",
       "  <thead>\n",
       "    <tr style=\"text-align: right;\">\n",
       "      <th></th>\n",
       "      <th>Distance</th>\n",
       "      <th>Fare</th>\n",
       "      <th>Prediction</th>\n",
       "    </tr>\n",
       "  </thead>\n",
       "  <tbody>\n",
       "    <tr>\n",
       "      <th>count</th>\n",
       "      <td>12.000000</td>\n",
       "      <td>12.000000</td>\n",
       "      <td>12.000000</td>\n",
       "    </tr>\n",
       "    <tr>\n",
       "      <th>mean</th>\n",
       "      <td>712.666667</td>\n",
       "      <td>166.916667</td>\n",
       "      <td>166.916667</td>\n",
       "    </tr>\n",
       "    <tr>\n",
       "      <th>std</th>\n",
       "      <td>402.685831</td>\n",
       "      <td>59.454273</td>\n",
       "      <td>47.265285</td>\n",
       "    </tr>\n",
       "    <tr>\n",
       "      <th>min</th>\n",
       "      <td>189.000000</td>\n",
       "      <td>94.000000</td>\n",
       "      <td>105.451245</td>\n",
       "    </tr>\n",
       "    <tr>\n",
       "      <th>25%</th>\n",
       "      <td>399.250000</td>\n",
       "      <td>128.000000</td>\n",
       "      <td>130.129358</td>\n",
       "    </tr>\n",
       "    <tr>\n",
       "      <th>50%</th>\n",
       "      <td>674.500000</td>\n",
       "      <td>168.000000</td>\n",
       "      <td>162.436851</td>\n",
       "    </tr>\n",
       "    <tr>\n",
       "      <th>75%</th>\n",
       "      <td>959.000000</td>\n",
       "      <td>190.500000</td>\n",
       "      <td>195.830063</td>\n",
       "    </tr>\n",
       "    <tr>\n",
       "      <th>max</th>\n",
       "      <td>1502.000000</td>\n",
       "      <td>278.000000</td>\n",
       "      <td>259.564736</td>\n",
       "    </tr>\n",
       "  </tbody>\n",
       "</table>\n",
       "</div>"
      ],
      "text/plain": [
       "          Distance        Fare  Prediction\n",
       "count    12.000000   12.000000   12.000000\n",
       "mean    712.666667  166.916667  166.916667\n",
       "std     402.685831   59.454273   47.265285\n",
       "min     189.000000   94.000000  105.451245\n",
       "25%     399.250000  128.000000  130.129358\n",
       "50%     674.500000  168.000000  162.436851\n",
       "75%     959.000000  190.500000  195.830063\n",
       "max    1502.000000  278.000000  259.564736"
      ]
     },
     "execution_count": 28,
     "metadata": {},
     "output_type": "execute_result"
    }
   ],
   "source": [
    "data_df.describe()"
   ]
  },
  {
   "cell_type": "markdown",
   "metadata": {},
   "source": [
    "With this method we can see that no outlier is detected either."
   ]
  },
  {
   "cell_type": "markdown",
   "metadata": {},
   "source": [
    "Using Custom Methods to Treat Extreme Values\n",
    "--------------------------------------------\n",
    "\n",
    "Since no outliers were detected with the previous methods, a way to treat the abnormal values would be:\n",
    "\n",
    "1) Find the values that are in quantile ranges $[0.0,0.10]$ and $[0.90,1.00]$.\n",
    "2) Drop/Treat said values.\n",
    "\n",
    "We will drop values according to the following criteria:\n",
    "\n",
    "1) By Fare \n",
    "2) By Miles per Dollar\n",
    "3) By Fare and Miles per Dollar\n",
    "\n",
    "Additionally instead of dropping values, one could input a new fare in place of the extreme values, the new fare would be calculated as follows:\n",
    "\n",
    "$dollarsPerMilesMean = 1/mean(milesPerDollar)$\n",
    "\n",
    "$Fare_i = dollarsPerMilesMean*Miles_i$\n"
   ]
  },
  {
   "cell_type": "markdown",
   "metadata": {},
   "source": [
    "<h2>Drop by Fare<h2>"
   ]
  },
  {
   "cell_type": "code",
   "execution_count": 29,
   "metadata": {},
   "outputs": [
    {
     "name": "stdout",
     "output_type": "stream",
     "text": [
      "lower_threshold: 98.0 upper_threshold: 252.00000000000003\n",
      "          City  Distance  Fare  Prediction\n",
      "0      Atlanta       576   178  150.875405\n",
      "1       Boston       370   138  126.696136\n",
      "2      Chicago       612    94  155.100908\n",
      "3       Dallas      1216   278  225.995461\n",
      "4      Detroit       409   158  131.273765\n",
      "5       Denver      1502   258  259.564736\n",
      "6        Miami       946   198  194.304187\n",
      "7   NewOrleans       998   188  200.407692\n",
      "8      NewYork       189    98  105.451245\n",
      "9      Orlando       787   179  175.641548\n",
      "10  Pittsburgh       210   138  107.916122\n",
      "11    St.Louis       737    98  169.772794\n",
      "-------Dropped Cities-----------\n",
      "Dropped lower threshold:\n",
      " 2      Chicago\n",
      "8      NewYork\n",
      "11    St.Louis\n",
      "Name: City, dtype: object\n",
      "Dropped upper threshold:\n",
      " 3    Dallas\n",
      "5    Denver\n",
      "Name: City, dtype: object\n"
     ]
    }
   ],
   "source": [
    "lower_threshold=data_df['Fare'].quantile(0.10)\n",
    "upper_threshold=data_df['Fare'].quantile(0.90)\n",
    "mean = data_df['Fare'].mean()\n",
    "print('lower_threshold:',lower_threshold,'upper_threshold:',upper_threshold)\n",
    "new_data_df = data_df.copy(deep=True)\n",
    "print(new_data_df)\n",
    "print(\"-------Dropped Cities-----------\")\n",
    "dropped_cities_lower_index = new_data_df.City[new_data_df[new_data_df.Fare<=lower_threshold].index]\n",
    "dropped_cities_upper_index = new_data_df.City[new_data_df[new_data_df.Fare>=upper_threshold].index]\n",
    "dropped_cities = list(np.append(dropped_cities_lower_index.values,dropped_cities_upper_index.values))\n",
    "dropped_cities =  ', '.join(dropped_cities)\n",
    "print('Dropped lower threshold:\\n',dropped_cities_lower_index)\n",
    "print('Dropped upper threshold:\\n',dropped_cities_upper_index)\n",
    "\n",
    "new_data_df = new_data_df.drop(dropped_cities_lower_index.index)\n",
    "new_data_df = new_data_df.drop(dropped_cities_upper_index.index)\n",
    "new_data_df.describe()\n",
    "drop_fare_data_df = new_data_df.copy(deep=True)\n",
    "drop_fare_cities = dropped_cities"
   ]
  },
  {
   "cell_type": "markdown",
   "metadata": {},
   "source": [
    "<h2>Drop by Miles per Dollar<h2>"
   ]
  },
  {
   "cell_type": "code",
   "execution_count": 30,
   "metadata": {},
   "outputs": [
    {
     "name": "stdout",
     "output_type": "stream",
     "text": [
      "          Distance        Fare  Prediction  miles_per_dollar\n",
      "count    12.000000   12.000000   12.000000         12.000000\n",
      "mean    712.666667  166.916667  166.916667          4.222152\n",
      "std     402.685831   59.454273   47.265285          1.877743\n",
      "min     189.000000   94.000000  105.451245          1.521739\n",
      "25%     399.250000  128.000000  130.129358          2.658021\n",
      "50%     674.500000  168.000000  162.436851          4.385374\n",
      "75%     959.000000  190.500000  195.830063          5.436809\n",
      "max    1502.000000  278.000000  259.564736          7.520408\n"
     ]
    },
    {
     "data": {
      "text/plain": [
       "<AxesSubplot:xlabel='miles_per_dollar'>"
      ]
     },
     "execution_count": 30,
     "metadata": {},
     "output_type": "execute_result"
    },
    {
     "data": {
      "image/png": "[encoded data removed]",
      "text/plain": [
       "<Figure size 432x288 with 1 Axes>"
      ]
     },
     "metadata": {},
     "output_type": "display_data"
    }
   ],
   "source": [
    "\n",
    "new_df = data_df.copy(deep=True)\n",
    "new_df[\"miles_per_dollar\"] = new_df.Distance/new_df.Fare\n",
    "print(new_df.describe())\n",
    "sns.boxplot(data=new_df,x=\"miles_per_dollar\")"
   ]
  },
  {
   "cell_type": "code",
   "execution_count": 31,
   "metadata": {},
   "outputs": [
    {
     "name": "stdout",
     "output_type": "stream",
     "text": [
      "lower_threshold: 1.9945750452079567 upper_threshold: 6.441745010720766\n",
      "          City  Distance  Fare  Prediction  miles_per_dollar\n",
      "0      Atlanta       576   178  150.875405          3.235955\n",
      "1       Boston       370   138  126.696136          2.681159\n",
      "2      Chicago       612    94  155.100908          6.510638\n",
      "3       Dallas      1216   278  225.995461          4.374101\n",
      "4      Detroit       409   158  131.273765          2.588608\n",
      "5       Denver      1502   258  259.564736          5.821705\n",
      "6        Miami       946   198  194.304187          4.777778\n",
      "7   NewOrleans       998   188  200.407692          5.308511\n",
      "8      NewYork       189    98  105.451245          1.928571\n",
      "9      Orlando       787   179  175.641548          4.396648\n",
      "10  Pittsburgh       210   138  107.916122          1.521739\n",
      "11    St.Louis       737    98  169.772794          7.520408\n",
      "-------Dropped Cities-----------\n",
      "Dropped lower threshold:\n",
      " 8        NewYork\n",
      "10    Pittsburgh\n",
      "Name: City, dtype: object\n",
      "Dropped upper threshold:\n",
      " 2      Chicago\n",
      "11    St.Louis\n",
      "Name: City, dtype: object\n"
     ]
    }
   ],
   "source": [
    "lower_threshold=new_df['miles_per_dollar'].quantile(0.10)\n",
    "upper_threshold=new_df['miles_per_dollar'].quantile(0.90)\n",
    "mean = new_df['miles_per_dollar'].mean()\n",
    "print('lower_threshold:',lower_threshold,'upper_threshold:',upper_threshold)\n",
    "new_data_df = new_df.copy(deep=True)\n",
    "print(new_data_df)\n",
    "print(\"-------Dropped Cities-----------\")\n",
    "dropped_cities_lower_index = new_data_df.City[new_data_df[new_data_df.miles_per_dollar<=lower_threshold].index]\n",
    "dropped_cities_upper_index = new_data_df.City[new_data_df[new_data_df.miles_per_dollar>=upper_threshold].index]\n",
    "dropped_cities = list(np.append(dropped_cities_lower_index.values,dropped_cities_upper_index.values))\n",
    "dropped_cities =  ', '.join(dropped_cities)\n",
    "print('Dropped lower threshold:\\n',dropped_cities_lower_index)\n",
    "print('Dropped upper threshold:\\n',dropped_cities_upper_index)\n",
    "\n",
    "new_data_df = new_data_df.drop(dropped_cities_lower_index.index)\n",
    "new_data_df = new_data_df.drop(dropped_cities_upper_index.index)\n",
    "new_data_df.describe()\n",
    "drop_miles_data_df = new_data_df.copy(deep=True)\n",
    "drop_miles_cities = dropped_cities"
   ]
  },
  {
   "cell_type": "markdown",
   "metadata": {},
   "source": [
    "<h2>Drop by Fare and Miles per Dollar\t<h2>"
   ]
  },
  {
   "cell_type": "code",
   "execution_count": 32,
   "metadata": {},
   "outputs": [
    {
     "name": "stdout",
     "output_type": "stream",
     "text": [
      "          City  Distance  Fare  Prediction\n",
      "0      Atlanta       576   178  150.875405\n",
      "1       Boston       370   138  126.696136\n",
      "2      Chicago       612    94  155.100908\n",
      "3       Dallas      1216   278  225.995461\n",
      "4      Detroit       409   158  131.273765\n",
      "5       Denver      1502   258  259.564736\n",
      "6        Miami       946   198  194.304187\n",
      "7   NewOrleans       998   188  200.407692\n",
      "8      NewYork       189    98  105.451245\n",
      "9      Orlando       787   179  175.641548\n",
      "10  Pittsburgh       210   138  107.916122\n",
      "11    St.Louis       737    98  169.772794\n",
      "-------Dropped Cities-----------\n",
      " St.Louis, NewYork, Chicago\n"
     ]
    }
   ],
   "source": [
    "new_data_df = data_df.copy(deep=True)\n",
    "print(new_data_df)\n",
    "A = drop_miles_cities.split(\", \")\n",
    "B = drop_fare_cities.split(\", \")\n",
    "drop = list(set(A) & set(B))\n",
    "dropped_cities =  ', '.join(drop)\n",
    "print(\"-------Dropped Cities-----------\\n\",dropped_cities)\n",
    "new_data_df = new_data_df.drop(new_data_df[data_df['City'].isin(drop)].index)\n",
    "\n",
    "drop_intersec_data_df = new_data_df.copy(deep=True)\n",
    "drop_intersec_cities = dropped_cities"
   ]
  },
  {
   "cell_type": "markdown",
   "metadata": {},
   "source": [
    "<h2>Input Fare with Miles per Dollar Mean<h2>"
   ]
  },
  {
   "cell_type": "code",
   "execution_count": 33,
   "metadata": {},
   "outputs": [
    {
     "name": "stdout",
     "output_type": "stream",
     "text": [
      "dollars_per_miles_mean 0.23684605514747023\n",
      "\n",
      "----------------Dataframes with new fares------------------\n",
      "\n",
      "        City  Distance        Fare  Prediction  miles_per_dollar\n",
      "2    Chicago       612  144.949786  155.100908          6.510638\n",
      "8    NewYork       189   44.763904  105.451245          1.928571\n",
      "11  St.Louis       737  174.555543  169.772794          7.520408\n",
      "     City  Distance        Fare  Prediction  miles_per_dollar\n",
      "3  Dallas      1216  288.004803  225.995461          4.374101\n",
      "5  Denver      1502  355.742775  259.564736          5.821705\n"
     ]
    }
   ],
   "source": [
    "input_df = new_df.copy(deep=True)\n",
    "dollars_per_miles_mean = 1/input_df['miles_per_dollar'].mean()\n",
    "print('dollars_per_miles_mean',dollars_per_miles_mean)\n",
    "lower_threshold=data_df['Fare'].quantile(0.10)\n",
    "upper_threshold=data_df['Fare'].quantile(0.90)\n",
    "print('\\n----------------Dataframes with new fares------------------\\n')\n",
    "mask = input_df.Fare<=lower_threshold\n",
    "input_df.loc[mask,'Fare'] = dollars_per_miles_mean*new_df[mask].Distance\n",
    "print(input_df[mask])\n",
    "mask = input_df.Fare>=upper_threshold\n",
    "input_df.loc[mask,'Fare'] = dollars_per_miles_mean*new_df[mask].Distance\n",
    "print(input_df[mask])"
   ]
  },
  {
   "cell_type": "markdown",
   "metadata": {},
   "source": [
    "<h1>Final Results<h1>"
   ]
  },
  {
   "cell_type": "markdown",
   "metadata": {},
   "source": [
    "<h3>Comparing Scores of Different Methods<h3>"
   ]
  },
  {
   "cell_type": "code",
   "execution_count": 39,
   "metadata": {},
   "outputs": [
    {
     "data": {
      "text/html": [
       "<div>\n",
       "<style scoped>\n",
       "    .dataframe tbody tr th:only-of-type {\n",
       "        vertical-align: middle;\n",
       "    }\n",
       "\n",
       "    .dataframe tbody tr th {\n",
       "        vertical-align: top;\n",
       "    }\n",
       "\n",
       "    .dataframe thead th {\n",
       "        text-align: right;\n",
       "    }\n",
       "</style>\n",
       "<table border=\"1\" class=\"dataframe\">\n",
       "  <thead>\n",
       "    <tr style=\"text-align: right;\">\n",
       "      <th></th>\n",
       "      <th>MSE</th>\n",
       "      <th>MAE</th>\n",
       "      <th>R2</th>\n",
       "      <th>Dropped Cities</th>\n",
       "      <th>Coeff</th>\n",
       "      <th>Intercept</th>\n",
       "    </tr>\n",
       "  </thead>\n",
       "  <tbody>\n",
       "    <tr>\n",
       "      <th>No Values Dropped</th>\n",
       "      <td>1192.4</td>\n",
       "      <td>25.72</td>\n",
       "      <td>0.63</td>\n",
       "      <td>None</td>\n",
       "      <td>0.12</td>\n",
       "      <td>83.27</td>\n",
       "    </tr>\n",
       "    <tr>\n",
       "      <th>Drop by Fare</th>\n",
       "      <td>62.39</td>\n",
       "      <td>6.56</td>\n",
       "      <td>0.87</td>\n",
       "      <td>Chicago, NewYork, St.Louis, Dallas, Denver</td>\n",
       "      <td>0.07</td>\n",
       "      <td>123.09</td>\n",
       "    </tr>\n",
       "    <tr>\n",
       "      <th>Drop by Miles per Dollar</th>\n",
       "      <td>360.04</td>\n",
       "      <td>15.46</td>\n",
       "      <td>0.82</td>\n",
       "      <td>NewYork, Pittsburgh, Chicago, St.Louis</td>\n",
       "      <td>0.11</td>\n",
       "      <td>103.56</td>\n",
       "    </tr>\n",
       "    <tr>\n",
       "      <th>Drop by Fare and Miles per Dollar</th>\n",
       "      <td>329.66</td>\n",
       "      <td>14.45</td>\n",
       "      <td>0.84</td>\n",
       "      <td>St.Louis, NewYork, Chicago</td>\n",
       "      <td>0.11</td>\n",
       "      <td>108.29</td>\n",
       "    </tr>\n",
       "    <tr>\n",
       "      <th>Input Fare</th>\n",
       "      <td>867.55</td>\n",
       "      <td>27.0</td>\n",
       "      <td>0.84</td>\n",
       "      <td>None</td>\n",
       "      <td>0.18</td>\n",
       "      <td>55.76</td>\n",
       "    </tr>\n",
       "  </tbody>\n",
       "</table>\n",
       "</div>"
      ],
      "text/plain": [
       "                                      MSE    MAE    R2  \\\n",
       "No Values Dropped                  1192.4  25.72  0.63   \n",
       "Drop by Fare                        62.39   6.56  0.87   \n",
       "Drop by Miles per Dollar           360.04  15.46  0.82   \n",
       "Drop by Fare and Miles per Dollar  329.66  14.45  0.84   \n",
       "Input Fare                         867.55   27.0  0.84   \n",
       "\n",
       "                                                               Dropped Cities  \\\n",
       "No Values Dropped                                                        None   \n",
       "Drop by Fare                       Chicago, NewYork, St.Louis, Dallas, Denver   \n",
       "Drop by Miles per Dollar               NewYork, Pittsburgh, Chicago, St.Louis   \n",
       "Drop by Fare and Miles per Dollar                  St.Louis, NewYork, Chicago   \n",
       "Input Fare                                                               None   \n",
       "\n",
       "                                  Coeff Intercept  \n",
       "No Values Dropped                  0.12     83.27  \n",
       "Drop by Fare                       0.07    123.09  \n",
       "Drop by Miles per Dollar           0.11    103.56  \n",
       "Drop by Fare and Miles per Dollar  0.11    108.29  \n",
       "Input Fare                         0.18     55.76  "
      ]
     },
     "execution_count": 39,
     "metadata": {},
     "output_type": "execute_result"
    }
   ],
   "source": [
    "train_and_get_results(new_data_df=drop_fare_data_df,dropped_cities=drop_fare_cities,results=results,method=\"Drop by Fare\")\n",
    "train_and_get_results(new_data_df=drop_miles_data_df,dropped_cities=drop_miles_cities,results=results,method=\"Drop by Miles per Dollar\")\n",
    "train_and_get_results(new_data_df=drop_intersec_data_df,dropped_cities=drop_intersec_cities,results=results,method=\"Drop by Fare and Miles per Dollar\")\n",
    "train_and_get_results(new_data_df=input_df,dropped_cities='None',results=results,method=\"Input Fare\")\n",
    "\n",
    "results_df = pd.DataFrame(results)\n",
    "results_df.T"
   ]
  },
  {
   "cell_type": "markdown",
   "metadata": {},
   "source": [
    "We can see that with any method we improve the model but by dropping the cities with extreme fare values we get the best performing model according to MSE, MAE and R2 scores. "
   ]
  },
  {
   "cell_type": "markdown",
   "metadata": {},
   "source": [
    "<h3>Comparing Regression Lines<h3>"
   ]
  },
  {
   "cell_type": "code",
   "execution_count": 35,
   "metadata": {},
   "outputs": [
    {
     "data": {
      "image/png": "[encoded data removed]",
      "text/plain": [
       "<Figure size 720x432 with 1 Axes>"
      ]
     },
     "metadata": {},
     "output_type": "display_data"
    }
   ],
   "source": [
    "def draw_line(intercept,coef,ax,color):\n",
    "    y_vals = intercept + coef * x_vals\n",
    "    ax.plot(x_vals, y_vals,alpha=0.8,label=labels[i],color=color)\n",
    "\n",
    "lines_data = results_df.T[[\"Coeff\", \"Intercept\"]]\n",
    "ax = plt.gca()\n",
    "ax.set_xlim(0,1600)\n",
    "x_vals = np.array(ax.get_xlim())\n",
    "labels = results_df.T.index.array\n",
    "labels = list(labels)+[\"Initial Fares\"]\n",
    "colors = ['r','g','y','m','b']\n",
    "for i in range(5):\n",
    "    draw_line(lines_data[\"Intercept\"].array[i],lines_data[\"Coeff\"].array[i],ax,colors[i])\n",
    "data_df.plot(kind='scatter',x='Distance',y='Fare',ax=ax,color='r')\n",
    "ax.set_title('Regression Lines Using Different Methods', fontsize=16)\n",
    "for k, v in data_df[[\"Distance\",\"Fare\"]].iterrows():\n",
    "    ax.annotate(data_df.City.iloc[k], v)\n",
    "ax.legend(labels,bbox_to_anchor=(1, 1))\n",
    "ax.figure.set_size_inches(10,6)"
   ]
  },
  {
   "cell_type": "markdown",
   "metadata": {},
   "source": [
    "Here we can visually inspect for each method which cities affect the most to each regression line, for example we can see that the slopes for the methods involving miles per dollar drop cities closer to either axis but does not drop extreme values like Dallas or Denver.\n",
    "\n",
    "We can also see that by inputting new fares using the average of $dollars/miles$  it would give us a model that predicts higher prices than the other models which maybe for some distance would give an excessively expensive fare.\n",
    "\n"
   ]
  }
 ],
 "metadata": {
  "interpreter": {
   "hash": "63fd5069d213b44bf678585dea6b12cceca9941eaf7f819626cde1f2670de90d"
  },
  "kernelspec": {
   "display_name": "Python 3.9.6 64-bit",
   "name": "python3"
  },
  "language_info": {
   "codemirror_mode": {
    "name": "ipython",
    "version": 3
   },
   "file_extension": ".py",
   "mimetype": "text/x-python",
   "name": "python",
   "nbconvert_exporter": "python",
   "pygments_lexer": "ipython3",
   "version": "3.9.6"
  },
  "orig_nbformat": 4
 },
 "nbformat": 4,
 "nbformat_minor": 2
}
